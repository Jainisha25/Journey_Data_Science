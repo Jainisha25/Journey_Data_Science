{
  "nbformat": 4,
  "nbformat_minor": 0,
  "metadata": {
    "colab": {
      "provenance": []
    },
    "kernelspec": {
      "name": "python3",
      "display_name": "Python 3"
    },
    "language_info": {
      "name": "python"
    }
  },
  "cells": [
    {
      "cell_type": "markdown",
      "source": [
        "#Basic Python"
      ],
      "metadata": {
        "id": "BY_AGmxCN8QL"
      }
    },
    {
      "cell_type": "markdown",
      "source": [
        "##Numbers:"
      ],
      "metadata": {
        "id": "LAf2Cjd8N_56"
      }
    },
    {
      "cell_type": "code",
      "source": [
        "#single Line Comment"
      ],
      "metadata": {
        "id": "bAwt-CqQOCaJ"
      },
      "execution_count": 2,
      "outputs": []
    },
    {
      "cell_type": "code",
      "source": [
        "'''\n",
        "Multi Line Comment\n",
        "'''"
      ],
      "metadata": {
        "colab": {
          "base_uri": "https://localhost:8080/",
          "height": 35
        },
        "id": "45Bxl20jONvo",
        "outputId": "cd165556-ad80-4dcf-8083-1302c26e83c9"
      },
      "execution_count": 3,
      "outputs": [
        {
          "output_type": "execute_result",
          "data": {
            "text/plain": [
              "'\\nMulti Line Comment\\n'"
            ],
            "application/vnd.google.colaboratory.intrinsic+json": {
              "type": "string"
            }
          },
          "metadata": {},
          "execution_count": 3
        }
      ]
    },
    {
      "cell_type": "code",
      "source": [
        "#Addition:\n",
        "1+1"
      ],
      "metadata": {
        "colab": {
          "base_uri": "https://localhost:8080/"
        },
        "id": "bGnNJYGROQ42",
        "outputId": "3f1b64a0-86c5-4e15-f2ab-f828bc00bfda"
      },
      "execution_count": 4,
      "outputs": [
        {
          "output_type": "execute_result",
          "data": {
            "text/plain": [
              "2"
            ]
          },
          "metadata": {},
          "execution_count": 4
        }
      ]
    },
    {
      "cell_type": "code",
      "source": [
        "#Substraction:\n",
        "2-1"
      ],
      "metadata": {
        "colab": {
          "base_uri": "https://localhost:8080/"
        },
        "id": "xsTT-A2COlJm",
        "outputId": "eb0c8fa1-ad9a-4fc8-ed5a-c777aa16ed3d"
      },
      "execution_count": 5,
      "outputs": [
        {
          "output_type": "execute_result",
          "data": {
            "text/plain": [
              "1"
            ]
          },
          "metadata": {},
          "execution_count": 5
        }
      ]
    },
    {
      "cell_type": "code",
      "source": [
        "#Multiplication:\n",
        "10*2"
      ],
      "metadata": {
        "colab": {
          "base_uri": "https://localhost:8080/"
        },
        "id": "caCBwgDMOp2f",
        "outputId": "d5201e89-5135-4444-b817-1ff38cde8b06"
      },
      "execution_count": 6,
      "outputs": [
        {
          "output_type": "execute_result",
          "data": {
            "text/plain": [
              "20"
            ]
          },
          "metadata": {},
          "execution_count": 6
        }
      ]
    },
    {
      "cell_type": "code",
      "source": [
        "#Division:\n",
        "10/3"
      ],
      "metadata": {
        "colab": {
          "base_uri": "https://localhost:8080/"
        },
        "id": "YzpxK1-OOs2U",
        "outputId": "b7bfe07f-2826-40eb-9737-1a2db9b82ffc"
      },
      "execution_count": 7,
      "outputs": [
        {
          "output_type": "execute_result",
          "data": {
            "text/plain": [
              "3.3333333333333335"
            ]
          },
          "metadata": {},
          "execution_count": 7
        }
      ]
    },
    {
      "cell_type": "code",
      "source": [
        "#Integer Division:\n",
        "10//3"
      ],
      "metadata": {
        "colab": {
          "base_uri": "https://localhost:8080/"
        },
        "id": "aCUMaVl3Ouk2",
        "outputId": "84233d73-9fe6-4635-910f-e7c457e27fba"
      },
      "execution_count": 8,
      "outputs": [
        {
          "output_type": "execute_result",
          "data": {
            "text/plain": [
              "3"
            ]
          },
          "metadata": {},
          "execution_count": 8
        }
      ]
    },
    {
      "cell_type": "code",
      "source": [
        "#Modules:\n",
        "10%3"
      ],
      "metadata": {
        "colab": {
          "base_uri": "https://localhost:8080/"
        },
        "id": "qgVWtfCUOw9l",
        "outputId": "f262800d-a16d-4d94-f960-dcf5cfcc3ae5"
      },
      "execution_count": 9,
      "outputs": [
        {
          "output_type": "execute_result",
          "data": {
            "text/plain": [
              "1"
            ]
          },
          "metadata": {},
          "execution_count": 9
        }
      ]
    },
    {
      "cell_type": "code",
      "source": [
        "#String Multiplication:\n",
        "10* \"Jainisha\""
      ],
      "metadata": {
        "colab": {
          "base_uri": "https://localhost:8080/",
          "height": 35
        },
        "id": "26lQhYAhO0R5",
        "outputId": "31bc65b2-cc20-4619-b96d-a9fb1cc7f673"
      },
      "execution_count": 12,
      "outputs": [
        {
          "output_type": "execute_result",
          "data": {
            "text/plain": [
              "'JainishaJainishaJainishaJainishaJainishaJainishaJainishaJainishaJainishaJainisha'"
            ],
            "application/vnd.google.colaboratory.intrinsic+json": {
              "type": "string"
            }
          },
          "metadata": {},
          "execution_count": 12
        }
      ]
    },
    {
      "cell_type": "code",
      "source": [
        "#String Multiplication in new line:\n",
        "print(10* \"hello\\n\")"
      ],
      "metadata": {
        "colab": {
          "base_uri": "https://localhost:8080/"
        },
        "id": "DIfXNNRYO5eB",
        "outputId": "f46d1ab6-9cfb-4b1c-c663-6b81135afcfb"
      },
      "execution_count": 2,
      "outputs": [
        {
          "output_type": "stream",
          "name": "stdout",
          "text": [
            "hello\n",
            "hello\n",
            "hello\n",
            "hello\n",
            "hello\n",
            "hello\n",
            "hello\n",
            "hello\n",
            "hello\n",
            "hello\n",
            "\n"
          ]
        }
      ]
    },
    {
      "cell_type": "code",
      "source": [
        "#Check Data Types:\n",
        "type(2.3)"
      ],
      "metadata": {
        "colab": {
          "base_uri": "https://localhost:8080/"
        },
        "id": "3zfZ3rrpPneC",
        "outputId": "d9a67104-4a18-4439-b59b-db67474b1ff3"
      },
      "execution_count": 16,
      "outputs": [
        {
          "output_type": "execute_result",
          "data": {
            "text/plain": [
              "float"
            ]
          },
          "metadata": {},
          "execution_count": 16
        }
      ]
    },
    {
      "cell_type": "code",
      "source": [
        "#String:\n",
        "string = 'Hello! World'\n",
        "string"
      ],
      "metadata": {
        "colab": {
          "base_uri": "https://localhost:8080/",
          "height": 35
        },
        "id": "TwxO8qARP4wV",
        "outputId": "a861f0ad-b306-42db-f937-97bf69e0487d"
      },
      "execution_count": 18,
      "outputs": [
        {
          "output_type": "execute_result",
          "data": {
            "text/plain": [
              "'Hello! World'"
            ],
            "application/vnd.google.colaboratory.intrinsic+json": {
              "type": "string"
            }
          },
          "metadata": {},
          "execution_count": 18
        }
      ]
    },
    {
      "cell_type": "code",
      "source": [
        "#Integer:\n",
        "integer = 23\n",
        "integer"
      ],
      "metadata": {
        "colab": {
          "base_uri": "https://localhost:8080/"
        },
        "id": "W3K9wolSR9lH",
        "outputId": "a1223956-4495-4713-bc70-d59339e4f709"
      },
      "execution_count": 19,
      "outputs": [
        {
          "output_type": "execute_result",
          "data": {
            "text/plain": [
              "23"
            ]
          },
          "metadata": {},
          "execution_count": 19
        }
      ]
    },
    {
      "cell_type": "code",
      "source": [
        "#Float:\n",
        "float1 = 2.23\n",
        "float1"
      ],
      "metadata": {
        "colab": {
          "base_uri": "https://localhost:8080/"
        },
        "id": "1600lVjWSCdR",
        "outputId": "5ed44089-87cb-46d1-edce-e722fdcdd3e8"
      },
      "execution_count": 20,
      "outputs": [
        {
          "output_type": "execute_result",
          "data": {
            "text/plain": [
              "2.23"
            ]
          },
          "metadata": {},
          "execution_count": 20
        }
      ]
    },
    {
      "cell_type": "code",
      "source": [
        "#Complex:\n",
        "complex1 = 3 + 2j\n",
        "complex1"
      ],
      "metadata": {
        "colab": {
          "base_uri": "https://localhost:8080/"
        },
        "id": "2RSHcgPgSFUg",
        "outputId": "8a6a2416-aea9-4c47-9416-bb8083ecdeaa"
      },
      "execution_count": 21,
      "outputs": [
        {
          "output_type": "execute_result",
          "data": {
            "text/plain": [
              "(3+2j)"
            ]
          },
          "metadata": {},
          "execution_count": 21
        }
      ]
    },
    {
      "cell_type": "code",
      "source": [
        "#List:\n",
        "list1 = [1,2,3,4]\n",
        "list1"
      ],
      "metadata": {
        "colab": {
          "base_uri": "https://localhost:8080/"
        },
        "id": "nBDAsdTOSJVG",
        "outputId": "b3f21712-06ad-40c9-8f3e-084b281f42b8"
      },
      "execution_count": 22,
      "outputs": [
        {
          "output_type": "execute_result",
          "data": {
            "text/plain": [
              "[1, 2, 3, 4]"
            ]
          },
          "metadata": {},
          "execution_count": 22
        }
      ]
    },
    {
      "cell_type": "code",
      "source": [
        "#Tuple:\n",
        "tuple1 = (1,2,3,4)\n",
        "tuple1"
      ],
      "metadata": {
        "colab": {
          "base_uri": "https://localhost:8080/"
        },
        "id": "F3jjvXVtSMa6",
        "outputId": "fefa51ec-fc56-482c-c34c-626e10d5d178"
      },
      "execution_count": 23,
      "outputs": [
        {
          "output_type": "execute_result",
          "data": {
            "text/plain": [
              "(1, 2, 3, 4)"
            ]
          },
          "metadata": {},
          "execution_count": 23
        }
      ]
    },
    {
      "cell_type": "code",
      "source": [
        "#Range:\n",
        "range1 = range(0,10)\n",
        "print(range1)"
      ],
      "metadata": {
        "colab": {
          "base_uri": "https://localhost:8080/"
        },
        "id": "SlPGKP-PSWvj",
        "outputId": "acb11c26-cf22-4f13-a038-97fece5d9976"
      },
      "execution_count": 25,
      "outputs": [
        {
          "output_type": "stream",
          "name": "stdout",
          "text": [
            "range(0, 10)\n"
          ]
        }
      ]
    },
    {
      "cell_type": "code",
      "source": [
        "#Dictionary:\n",
        "dictionary = {'apple': 'hi', 'organe':'bye'}\n",
        "dictionary"
      ],
      "metadata": {
        "colab": {
          "base_uri": "https://localhost:8080/"
        },
        "id": "cVwaPyqLSZ54",
        "outputId": "1427157c-751e-4a1e-bb35-e2f7e903ff22"
      },
      "execution_count": 26,
      "outputs": [
        {
          "output_type": "execute_result",
          "data": {
            "text/plain": [
              "{'apple': 'hi', 'organe': 'bye'}"
            ]
          },
          "metadata": {},
          "execution_count": 26
        }
      ]
    },
    {
      "cell_type": "code",
      "source": [
        "#Set:\n",
        "set1 = {1,2,3,4}\n",
        "set1"
      ],
      "metadata": {
        "colab": {
          "base_uri": "https://localhost:8080/"
        },
        "id": "mQr2_rdySlKw",
        "outputId": "bff353af-f7a1-4940-812b-9c6cb899e4bb"
      },
      "execution_count": 27,
      "outputs": [
        {
          "output_type": "execute_result",
          "data": {
            "text/plain": [
              "{1, 2, 3, 4}"
            ]
          },
          "metadata": {},
          "execution_count": 27
        }
      ]
    },
    {
      "cell_type": "code",
      "source": [
        "#FrozenSet:\n",
        "frozenset1 = frozenset({1,2,3})\n",
        "frozenset1"
      ],
      "metadata": {
        "colab": {
          "base_uri": "https://localhost:8080/"
        },
        "id": "amScq0cISohh",
        "outputId": "8304c2bb-42a3-4046-9b23-1a1bf3cfd515"
      },
      "execution_count": 28,
      "outputs": [
        {
          "output_type": "execute_result",
          "data": {
            "text/plain": [
              "frozenset({1, 2, 3})"
            ]
          },
          "metadata": {},
          "execution_count": 28
        }
      ]
    },
    {
      "cell_type": "code",
      "source": [
        "#Boolean:\n",
        "boolean = True\n",
        "boolean"
      ],
      "metadata": {
        "colab": {
          "base_uri": "https://localhost:8080/"
        },
        "id": "fs4QByFcSuuE",
        "outputId": "8fe10d66-409a-4f19-884f-aa5b2912ae82"
      },
      "execution_count": 30,
      "outputs": [
        {
          "output_type": "execute_result",
          "data": {
            "text/plain": [
              "True"
            ]
          },
          "metadata": {},
          "execution_count": 30
        }
      ]
    },
    {
      "cell_type": "code",
      "source": [
        "#Bytes:\n",
        "my_bytes = b'hello'\n",
        "for byte in my_bytes:\n",
        "    print(byte)"
      ],
      "metadata": {
        "colab": {
          "base_uri": "https://localhost:8080/"
        },
        "id": "RIet60muSyux",
        "outputId": "8107244b-18ed-4064-9d51-acff7ace310d"
      },
      "execution_count": 32,
      "outputs": [
        {
          "output_type": "stream",
          "name": "stdout",
          "text": [
            "104\n",
            "101\n",
            "108\n",
            "108\n",
            "111\n"
          ]
        }
      ]
    },
    {
      "cell_type": "code",
      "source": [
        "my_bytearray = bytearray(b'Hello')\n",
        "my_bytearray"
      ],
      "metadata": {
        "colab": {
          "base_uri": "https://localhost:8080/"
        },
        "id": "7T3HouyoS4Rj",
        "outputId": "768b9be9-bdf4-4edc-8374-9cc28204184f"
      },
      "execution_count": 34,
      "outputs": [
        {
          "output_type": "execute_result",
          "data": {
            "text/plain": [
              "bytearray(b'Hello')"
            ]
          },
          "metadata": {},
          "execution_count": 34
        }
      ]
    },
    {
      "cell_type": "code",
      "source": [
        "my_memoryview = memoryview(b'Hello')\n",
        "my_memoryview"
      ],
      "metadata": {
        "colab": {
          "base_uri": "https://localhost:8080/"
        },
        "id": "D7IZ-xmzTEw_",
        "outputId": "a5320935-ffe1-4d3d-ce47-629d5478fd33"
      },
      "execution_count": 35,
      "outputs": [
        {
          "output_type": "execute_result",
          "data": {
            "text/plain": [
              "<memory at 0x781ee488f340>"
            ]
          },
          "metadata": {},
          "execution_count": 35
        }
      ]
    },
    {
      "cell_type": "code",
      "source": [
        "li = [1,2,3,1]\n",
        "li"
      ],
      "metadata": {
        "colab": {
          "base_uri": "https://localhost:8080/"
        },
        "id": "WuAkNCj-TJsj",
        "outputId": "b0ca1c3b-d6b3-4b80-ac9b-a15ec98a4c98"
      },
      "execution_count": 36,
      "outputs": [
        {
          "output_type": "execute_result",
          "data": {
            "text/plain": [
              "[1, 2, 3, 1]"
            ]
          },
          "metadata": {},
          "execution_count": 36
        }
      ]
    },
    {
      "cell_type": "code",
      "source": [
        "li.append(5)\n",
        "li.remove(2)\n",
        "li"
      ],
      "metadata": {
        "colab": {
          "base_uri": "https://localhost:8080/"
        },
        "id": "Rh4VsFr7UPls",
        "outputId": "81e4acc5-db75-4711-e316-f918989ce43f"
      },
      "execution_count": 38,
      "outputs": [
        {
          "output_type": "execute_result",
          "data": {
            "text/plain": [
              "[1, 3, 1, 5]"
            ]
          },
          "metadata": {},
          "execution_count": 38
        }
      ]
    },
    {
      "cell_type": "code",
      "source": [
        "# Create a bytearray\n",
        "my_bytearray = bytearray(b'hello')\n",
        "\n",
        "# Print the original bytearray\n",
        "print(\"Original bytearray:\", my_bytearray)\n",
        "\n",
        "# Modify the first element (byte) to ASCII value of 'a'\n",
        "my_bytearray[0] = ord('a')\n",
        "\n",
        "# Append a byte with ASCII value of '!'\n",
        "my_bytearray.append(ord('!'))\n",
        "\n",
        "# Insert a byte with ASCII value of ' ' (space) at index 3\n",
        "my_bytearray.insert(3, ord(' '))\n",
        "\n",
        "# Remove the byte with ASCII value of 'l'\n",
        "my_bytearray.remove(ord('l'))\n",
        "\n",
        "# Extend the bytearray with another bytearray\n",
        "my_bytearray.extend(bytearray(b'world'))\n",
        "\n",
        "# Print the modified bytearray\n",
        "print(\"Modified bytearray:\", my_bytearray)\n",
        "\n",
        "# Convert the bytearray to a bytes object and decode it\n",
        "print(\"Decoded:\", my_bytearray.decode('ascii'))"
      ],
      "metadata": {
        "colab": {
          "base_uri": "https://localhost:8080/"
        },
        "id": "6dbrMgLcUU8-",
        "outputId": "e4ef8bd3-aa0b-4dda-d25e-efa7857c1fad"
      },
      "execution_count": 39,
      "outputs": [
        {
          "output_type": "stream",
          "name": "stdout",
          "text": [
            "Original bytearray: bytearray(b'hello')\n",
            "Modified bytearray: bytearray(b'ae lo!world')\n",
            "Decoded: ae lo!world\n"
          ]
        }
      ]
    },
    {
      "cell_type": "code",
      "source": [],
      "metadata": {
        "id": "t8JWhK_rWQjR"
      },
      "execution_count": null,
      "outputs": []
    }
  ]
}