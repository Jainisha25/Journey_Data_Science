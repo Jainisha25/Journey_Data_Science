{
  "nbformat": 4,
  "nbformat_minor": 0,
  "metadata": {
    "colab": {
      "provenance": []
    },
    "kernelspec": {
      "name": "python3",
      "display_name": "Python 3"
    },
    "language_info": {
      "name": "python"
    }
  },
  "cells": [
    {
      "cell_type": "markdown",
      "source": [
        "#Variable Assignment:"
      ],
      "metadata": {
        "id": "YTc5I2NWXA8Y"
      }
    },
    {
      "cell_type": "code",
      "execution_count": 1,
      "metadata": {
        "colab": {
          "base_uri": "https://localhost:8080/"
        },
        "id": "elEWzkmsWjdM",
        "outputId": "3e14c0f7-3482-49a1-ba8c-4f915a3f2191"
      },
      "outputs": [
        {
          "output_type": "execute_result",
          "data": {
            "text/plain": [
              "int"
            ]
          },
          "metadata": {},
          "execution_count": 1
        }
      ],
      "source": [
        "a = 10\n",
        "type(a)"
      ]
    },
    {
      "cell_type": "code",
      "source": [
        "a = 'Hello World'\n",
        "type(a)"
      ],
      "metadata": {
        "colab": {
          "base_uri": "https://localhost:8080/"
        },
        "id": "YN47VBG1XF8n",
        "outputId": "0e24011f-3691-4bb2-b764-13eb3fcb1c8d"
      },
      "execution_count": 2,
      "outputs": [
        {
          "output_type": "execute_result",
          "data": {
            "text/plain": [
              "str"
            ]
          },
          "metadata": {},
          "execution_count": 2
        }
      ]
    },
    {
      "cell_type": "code",
      "source": [
        "#Mathematical Assignment:\n",
        "a = 10\n",
        "b = 20\n",
        "print('a+b=', a+b)\n",
        "print('a-b=', a-b)\n",
        "print('a*b=', a*b)\n",
        "print('a/b=', a/b)"
      ],
      "metadata": {
        "colab": {
          "base_uri": "https://localhost:8080/"
        },
        "id": "_AfAvz-OXI38",
        "outputId": "01f8103d-6446-4a36-bfbd-2de95da9f00d"
      },
      "execution_count": 4,
      "outputs": [
        {
          "output_type": "stream",
          "name": "stdout",
          "text": [
            "a+b= 30\n",
            "a-b= -10\n",
            "a*b= 200\n",
            "a/b= 0.5\n"
          ]
        }
      ]
    },
    {
      "cell_type": "code",
      "source": [
        "print((a*b)+(a/b)-(a//b))"
      ],
      "metadata": {
        "colab": {
          "base_uri": "https://localhost:8080/"
        },
        "id": "tT2KrC7xXebl",
        "outputId": "4ef381b2-38e8-49ea-d565-923849df34b9"
      },
      "execution_count": 5,
      "outputs": [
        {
          "output_type": "stream",
          "name": "stdout",
          "text": [
            "200.5\n"
          ]
        }
      ]
    },
    {
      "cell_type": "markdown",
      "source": [
        "#Printing:"
      ],
      "metadata": {
        "id": "4oEUoz7wX1h1"
      }
    },
    {
      "cell_type": "code",
      "source": [
        "print(\"Jainisha\")"
      ],
      "metadata": {
        "colab": {
          "base_uri": "https://localhost:8080/"
        },
        "id": "3isd8F3ZXpTA",
        "outputId": "0cc5aabd-a83e-4308-96bc-8d9bf7b85e7c"
      },
      "execution_count": 6,
      "outputs": [
        {
          "output_type": "stream",
          "name": "stdout",
          "text": [
            "Jainisha\n"
          ]
        }
      ]
    },
    {
      "cell_type": "code",
      "source": [
        "name = 'Jainisha'\n",
        "print('My name is {}.'.format(name))"
      ],
      "metadata": {
        "colab": {
          "base_uri": "https://localhost:8080/"
        },
        "id": "neu4QI_lX4ys",
        "outputId": "6c27ef57-b09c-4e2f-db6c-921c556b49dc"
      },
      "execution_count": 8,
      "outputs": [
        {
          "output_type": "stream",
          "name": "stdout",
          "text": [
            "My name is Jainisha.\n"
          ]
        }
      ]
    },
    {
      "cell_type": "code",
      "source": [
        "print(f'My name is {name}.')"
      ],
      "metadata": {
        "colab": {
          "base_uri": "https://localhost:8080/"
        },
        "id": "vpha4ASzYB50",
        "outputId": "cdeb1f4e-14d4-4b9b-b2a2-b97dd614141c"
      },
      "execution_count": 10,
      "outputs": [
        {
          "output_type": "stream",
          "name": "stdout",
          "text": [
            "My name is Jainisha.\n"
          ]
        }
      ]
    },
    {
      "cell_type": "code",
      "source": [
        "print('Hello World',sep =', ', end = '!')\n",
        "print(' Hi Jainisha')"
      ],
      "metadata": {
        "colab": {
          "base_uri": "https://localhost:8080/"
        },
        "id": "bwTEnI0pYMIu",
        "outputId": "9a56c573-e8f2-42af-ba69-de44cddf7d6e"
      },
      "execution_count": 16,
      "outputs": [
        {
          "output_type": "stream",
          "name": "stdout",
          "text": [
            "Hello World! Hi Jainisha\n"
          ]
        }
      ]
    },
    {
      "cell_type": "code",
      "source": [],
      "metadata": {
        "id": "c7WRQ1NRYfIY"
      },
      "execution_count": null,
      "outputs": []
    }
  ]
}