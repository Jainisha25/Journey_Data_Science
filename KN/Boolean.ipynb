{
  "nbformat": 4,
  "nbformat_minor": 0,
  "metadata": {
    "colab": {
      "provenance": []
    },
    "kernelspec": {
      "name": "python3",
      "display_name": "Python 3"
    },
    "language_info": {
      "name": "python"
    }
  },
  "cells": [
    {
      "cell_type": "markdown",
      "source": [
        "#Boolean Function:"
      ],
      "metadata": {
        "id": "3K-T-LPsa3-K"
      }
    },
    {
      "cell_type": "code",
      "execution_count": 2,
      "metadata": {
        "colab": {
          "base_uri": "https://localhost:8080/"
        },
        "id": "r-aJcPSCa3mE",
        "outputId": "4c1390fa-970b-4369-8de3-68b34bfc3b4e"
      },
      "outputs": [
        {
          "output_type": "stream",
          "name": "stdout",
          "text": [
            "False\n",
            "False\n",
            "False\n",
            "False\n",
            "False\n",
            "True\n",
            "False\n",
            "True\n",
            "False\n"
          ]
        }
      ],
      "source": [
        "string = 'Data Science 123'\n",
        "print(string.isalnum()) #AlphaNUmeric\n",
        "print(string.isdigit()) # Digits\n",
        "print(string.isalpha()) # Alpha\n",
        "print(string.isupper()) # Uppercase\n",
        "print(string.islower()) # Lowercase\n",
        "print(string.istitle()) # Titlecase\n",
        "print(string.isspace()) #Space Checking\n",
        "print(string.endswith('3')) # Last Letter\n",
        "print(string.startswith('C')) # First Letter"
      ]
    },
    {
      "cell_type": "markdown",
      "source": [
        "#Logic Operation:"
      ],
      "metadata": {
        "id": "ZFXY2PEebzug"
      }
    },
    {
      "cell_type": "code",
      "source": [
        "True and True"
      ],
      "metadata": {
        "colab": {
          "base_uri": "https://localhost:8080/"
        },
        "id": "w6tAO7JCboql",
        "outputId": "d08531ae-50f1-4d3c-c135-85648f009530"
      },
      "execution_count": 3,
      "outputs": [
        {
          "output_type": "execute_result",
          "data": {
            "text/plain": [
              "True"
            ]
          },
          "metadata": {},
          "execution_count": 3
        }
      ]
    },
    {
      "cell_type": "code",
      "source": [
        "True or False"
      ],
      "metadata": {
        "colab": {
          "base_uri": "https://localhost:8080/"
        },
        "id": "GiCnr4N-b2xs",
        "outputId": "aebb49eb-9878-4cdf-f932-b09c4b2018b2"
      },
      "execution_count": 4,
      "outputs": [
        {
          "output_type": "execute_result",
          "data": {
            "text/plain": [
              "True"
            ]
          },
          "metadata": {},
          "execution_count": 4
        }
      ]
    },
    {
      "cell_type": "code",
      "source": [
        "True and False"
      ],
      "metadata": {
        "colab": {
          "base_uri": "https://localhost:8080/"
        },
        "id": "2vjsdyj3b6oF",
        "outputId": "84b74c8b-c3d6-4b24-8b4e-178e7908f762"
      },
      "execution_count": 5,
      "outputs": [
        {
          "output_type": "execute_result",
          "data": {
            "text/plain": [
              "False"
            ]
          },
          "metadata": {},
          "execution_count": 5
        }
      ]
    },
    {
      "cell_type": "code",
      "source": [
        "not True"
      ],
      "metadata": {
        "colab": {
          "base_uri": "https://localhost:8080/"
        },
        "id": "6Dniebdnb7w6",
        "outputId": "80459a9a-4eff-4c8d-97a2-6d8213e35c28"
      },
      "execution_count": 6,
      "outputs": [
        {
          "output_type": "execute_result",
          "data": {
            "text/plain": [
              "False"
            ]
          },
          "metadata": {},
          "execution_count": 6
        }
      ]
    },
    {
      "cell_type": "code",
      "source": [],
      "metadata": {
        "id": "_Cf0sydmb8iH"
      },
      "execution_count": null,
      "outputs": []
    }
  ]
}