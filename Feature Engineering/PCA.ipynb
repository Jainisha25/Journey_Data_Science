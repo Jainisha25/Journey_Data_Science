{
  "nbformat": 4,
  "nbformat_minor": 0,
  "metadata": {
    "colab": {
      "provenance": []
    },
    "kernelspec": {
      "name": "python3",
      "display_name": "Python 3"
    },
    "language_info": {
      "name": "python"
    }
  },
  "cells": [
    {
      "cell_type": "code",
      "execution_count": 1,
      "metadata": {
        "colab": {
          "base_uri": "https://localhost:8080/"
        },
        "id": "ErVVOqW4t_xn",
        "outputId": "388d7fcc-41c6-410a-a835-d31829469adb"
      },
      "outputs": [
        {
          "output_type": "stream",
          "name": "stdout",
          "text": [
            "PCA Transformed DataFrame:\n",
            "   Principal Component 1  Principal Component 2  Target\n",
            "0              -2.684126               0.319397       0\n",
            "1              -2.714142              -0.177001       0\n",
            "2              -2.888991              -0.144949       0\n",
            "3              -2.745343              -0.318299       0\n",
            "4              -2.728717               0.326755       0\n"
          ]
        }
      ],
      "source": [
        "import pandas as pd\n",
        "from sklearn.decomposition import PCA\n",
        "from sklearn.datasets import load_iris\n",
        "\n",
        "# Load the Iris dataset\n",
        "iris = load_iris()\n",
        "X = iris.data\n",
        "y = iris.target\n",
        "\n",
        "# Initialize PCA with desired number of components\n",
        "pca = PCA(n_components=2)  # Reduce to 2 principal components for visualization\n",
        "\n",
        "# Fit PCA to the data\n",
        "X_pca = pca.fit_transform(X)\n",
        "\n",
        "# Convert PCA results to DataFrame\n",
        "df_pca = pd.DataFrame(data=X_pca, columns=['Principal Component 1', 'Principal Component 2'])\n",
        "df_pca['Target'] = y\n",
        "\n",
        "print(\"PCA Transformed DataFrame:\")\n",
        "print(df_pca.head())"
      ]
    },
    {
      "cell_type": "code",
      "source": [],
      "metadata": {
        "id": "tHvYB29ruDEo"
      },
      "execution_count": null,
      "outputs": []
    }
  ]
}