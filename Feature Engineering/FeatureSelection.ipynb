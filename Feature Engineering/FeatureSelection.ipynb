{
  "nbformat": 4,
  "nbformat_minor": 0,
  "metadata": {
    "colab": {
      "provenance": []
    },
    "kernelspec": {
      "name": "python3",
      "display_name": "Python 3"
    },
    "language_info": {
      "name": "python"
    }
  },
  "cells": [
    {
      "cell_type": "code",
      "execution_count": 2,
      "metadata": {
        "colab": {
          "base_uri": "https://localhost:8080/"
        },
        "id": "Du2GLfAxtwfM",
        "outputId": "55dcb571-7031-457f-a8d1-694c2504f30f"
      },
      "outputs": [
        {
          "output_type": "stream",
          "name": "stdout",
          "text": [
            "Features:\n",
            "[[-0.6693561  -1.49577819 -0.87076638 ... -1.26733697 -1.2763343\n",
            "   1.01664321]\n",
            " [ 0.09337237  0.78584826  0.10575379 ... -0.12270893  0.6934308\n",
            "   0.91136272]\n",
            " [-0.90579721 -0.60834121  0.29514098 ...  0.83049813 -0.73733198\n",
            "  -0.5782121 ]\n",
            " ...\n",
            " [-0.20013455 -1.46108168  1.79701652 ... -1.50280171 -1.27473745\n",
            "   1.60111869]\n",
            " [ 0.03935575  0.24868361 -0.47532342 ...  0.09912579  0.54269228\n",
            "   1.20827474]\n",
            " [ 0.76921528  0.47076539  0.16994471 ...  0.6561162   0.64333186\n",
            "  -2.02100232]]\n",
            "Selected features after RFECV:\n",
            "[[-1.49577819  1.73062972  1.80201193 -1.2763343 ]\n",
            " [ 0.78584826 -0.97909326 -0.87200205  0.6934308 ]\n",
            " [-0.60834121  1.37039724  0.01983187 -0.73733198]\n",
            " ...\n",
            " [-1.46108168  1.77603083  1.6686967  -1.27473745]\n",
            " [ 0.24868361 -1.29710909  0.7802239   0.54269228]\n",
            " [ 0.47076539 -1.28266409  0.22233931  0.64333186]]\n"
          ]
        }
      ],
      "source": [
        "from sklearn.datasets import make_classification\n",
        "from sklearn.feature_selection import RFECV\n",
        "from sklearn.model_selection import StratifiedKFold\n",
        "from sklearn.ensemble import RandomForestClassifier\n",
        "\n",
        "# Generate sample data\n",
        "X, y = make_classification(n_samples=1000, n_features=20, n_classes=2, random_state=42)\n",
        "\n",
        "print(\"Features:\")\n",
        "print(X)\n",
        "\n",
        "# Initialize RFECV with a classifier and stratified k-fold cross-validation\n",
        "rf_classifier = RandomForestClassifier(random_state=42)\n",
        "rfecv = RFECV(estimator=rf_classifier, step=1, cv=StratifiedKFold(5), scoring='accuracy')\n",
        "\n",
        "# Fit RFECV to the data\n",
        "rfecv.fit(X, y)\n",
        "\n",
        "# Get the selected features\n",
        "selected_features = X[:, rfecv.support_]\n",
        "\n",
        "print(\"Selected features after RFECV:\")\n",
        "print(selected_features)"
      ]
    },
    {
      "cell_type": "code",
      "source": [],
      "metadata": {
        "id": "-2reRvEPtzv_"
      },
      "execution_count": null,
      "outputs": []
    }
  ]
}