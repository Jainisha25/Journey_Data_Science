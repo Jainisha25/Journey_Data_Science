{
  "nbformat": 4,
  "nbformat_minor": 0,
  "metadata": {
    "colab": {
      "provenance": []
    },
    "kernelspec": {
      "name": "python3",
      "display_name": "Python 3"
    },
    "language_info": {
      "name": "python"
    }
  },
  "cells": [
    {
      "cell_type": "code",
      "execution_count": 1,
      "metadata": {
        "colab": {
          "base_uri": "https://localhost:8080/"
        },
        "id": "xwMRIywvjwcr",
        "outputId": "121a3a38-e938-43a1-f077-7e3eaabb181e"
      },
      "outputs": [
        {
          "output_type": "stream",
          "name": "stdout",
          "text": [
            "Min-Max Normalization:\n",
            "   Feature1  Feature2  Feature3\n",
            "0      0.00      0.00      0.00\n",
            "1      0.25      0.25      0.25\n",
            "2      0.50      0.50      0.50\n",
            "3      0.75      0.75      0.75\n",
            "4      1.00      1.00      1.00\n"
          ]
        }
      ],
      "source": [
        "import pandas as pd\n",
        "\n",
        "# Sample DataFrame with numerical features\n",
        "data = {\n",
        "    'Feature1': [10, 20, 30, 40, 50],\n",
        "    'Feature2': [0.1, 0.2, 0.3, 0.4, 0.5],\n",
        "    'Feature3': [100, 200, 300, 400, 500]\n",
        "}\n",
        "df = pd.DataFrame(data)\n",
        "\n",
        "# Min-Max Normalization\n",
        "df_min_max = (df - df.min()) / (df.max() - df.min())\n",
        "\n",
        "print(\"Min-Max Normalization:\")\n",
        "print(df_min_max)"
      ]
    },
    {
      "cell_type": "code",
      "source": [
        "from sklearn.preprocessing import StandardScaler\n",
        "\n",
        "# Initialize StandardScaler\n",
        "scaler = StandardScaler()\n",
        "\n",
        "# Standardization\n",
        "df_standardized = pd.DataFrame(scaler.fit_transform(df), columns=df.columns)\n",
        "\n",
        "print(\"\\nZ-Score Normalization (Standardization):\")\n",
        "print(df_standardized)"
      ],
      "metadata": {
        "colab": {
          "base_uri": "https://localhost:8080/"
        },
        "id": "qyNS9rMEj2W_",
        "outputId": "72a541b6-844f-47fb-fc1c-b4e55994fb4f"
      },
      "execution_count": 2,
      "outputs": [
        {
          "output_type": "stream",
          "name": "stdout",
          "text": [
            "\n",
            "Z-Score Normalization (Standardization):\n",
            "   Feature1  Feature2  Feature3\n",
            "0 -1.414214 -1.414214 -1.414214\n",
            "1 -0.707107 -0.707107 -0.707107\n",
            "2  0.000000  0.000000  0.000000\n",
            "3  0.707107  0.707107  0.707107\n",
            "4  1.414214  1.414214  1.414214\n"
          ]
        }
      ]
    },
    {
      "cell_type": "code",
      "source": [
        "from sklearn.preprocessing import RobustScaler\n",
        "\n",
        "# Initialize RobustScaler\n",
        "robust_scaler = RobustScaler()\n",
        "\n",
        "# Robust Scaling\n",
        "df_robust_scaled = pd.DataFrame(robust_scaler.fit_transform(df), columns=df.columns)\n",
        "\n",
        "print(\"\\nRobust Scaling:\")\n",
        "print(df_robust_scaled)"
      ],
      "metadata": {
        "colab": {
          "base_uri": "https://localhost:8080/"
        },
        "id": "0pEkQK2lj6BG",
        "outputId": "162c73d3-5c8e-42d4-a953-76a385b50f21"
      },
      "execution_count": 3,
      "outputs": [
        {
          "output_type": "stream",
          "name": "stdout",
          "text": [
            "\n",
            "Robust Scaling:\n",
            "   Feature1  Feature2  Feature3\n",
            "0      -1.0      -1.0      -1.0\n",
            "1      -0.5      -0.5      -0.5\n",
            "2       0.0       0.0       0.0\n",
            "3       0.5       0.5       0.5\n",
            "4       1.0       1.0       1.0\n"
          ]
        }
      ]
    },
    {
      "cell_type": "code",
      "source": [
        "from sklearn.preprocessing import Normalizer\n",
        "\n",
        "# Initialize Normalizer\n",
        "normalizer = Normalizer(norm='l2')\n",
        "\n",
        "# L2 Normalization\n",
        "df_normalized = pd.DataFrame(normalizer.fit_transform(df), columns=df.columns)\n",
        "\n",
        "print(\"\\nUnit Vector Transformation (L2 Normalization):\")\n",
        "print(df_normalized)"
      ],
      "metadata": {
        "colab": {
          "base_uri": "https://localhost:8080/"
        },
        "id": "CWFvdtLgj8ax",
        "outputId": "6a245c83-6f06-4961-c544-06c80ac55897"
      },
      "execution_count": 4,
      "outputs": [
        {
          "output_type": "stream",
          "name": "stdout",
          "text": [
            "\n",
            "Unit Vector Transformation (L2 Normalization):\n",
            "   Feature1  Feature2  Feature3\n",
            "0  0.099504  0.000995  0.995037\n",
            "1  0.099504  0.000995  0.995037\n",
            "2  0.099504  0.000995  0.995037\n",
            "3  0.099504  0.000995  0.995037\n",
            "4  0.099504  0.000995  0.995037\n"
          ]
        }
      ]
    },
    {
      "cell_type": "code",
      "source": [
        "import numpy as np\n",
        "\n",
        "# Log Transformation\n",
        "df_log_transformed = np.log(df)\n",
        "\n",
        "print(\"\\nLog Transformation:\")\n",
        "print(df_log_transformed)"
      ],
      "metadata": {
        "colab": {
          "base_uri": "https://localhost:8080/"
        },
        "id": "vR33ylhij_dD",
        "outputId": "841500b9-488d-4c58-8f5c-6882ced1e374"
      },
      "execution_count": 5,
      "outputs": [
        {
          "output_type": "stream",
          "name": "stdout",
          "text": [
            "\n",
            "Log Transformation:\n",
            "   Feature1  Feature2  Feature3\n",
            "0  2.302585 -2.302585  4.605170\n",
            "1  2.995732 -1.609438  5.298317\n",
            "2  3.401197 -1.203973  5.703782\n",
            "3  3.688879 -0.916291  5.991465\n",
            "4  3.912023 -0.693147  6.214608\n"
          ]
        }
      ]
    },
    {
      "cell_type": "code",
      "source": [
        "# Square Root Transformation\n",
        "df_sqrt_transformed = np.sqrt(df)\n",
        "\n",
        "print(\"\\nSquare Root Transformation:\")\n",
        "print(df_sqrt_transformed)"
      ],
      "metadata": {
        "colab": {
          "base_uri": "https://localhost:8080/"
        },
        "id": "LToY-muNkB7a",
        "outputId": "b3990b93-33ea-40c9-f98a-e79a51bb6a33"
      },
      "execution_count": 6,
      "outputs": [
        {
          "output_type": "stream",
          "name": "stdout",
          "text": [
            "\n",
            "Square Root Transformation:\n",
            "   Feature1  Feature2   Feature3\n",
            "0  3.162278  0.316228  10.000000\n",
            "1  4.472136  0.447214  14.142136\n",
            "2  5.477226  0.547723  17.320508\n",
            "3  6.324555  0.632456  20.000000\n",
            "4  7.071068  0.707107  22.360680\n"
          ]
        }
      ]
    },
    {
      "cell_type": "code",
      "source": [],
      "metadata": {
        "id": "sM9RKofmkD1Q"
      },
      "execution_count": null,
      "outputs": []
    }
  ]
}