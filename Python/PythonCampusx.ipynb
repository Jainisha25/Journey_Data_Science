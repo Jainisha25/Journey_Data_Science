{
  "nbformat": 4,
  "nbformat_minor": 0,
  "metadata": {
    "colab": {
      "provenance": []
    },
    "kernelspec": {
      "name": "python3",
      "display_name": "Python 3"
    },
    "language_info": {
      "name": "python"
    }
  },
  "cells": [
    {
      "cell_type": "markdown",
      "source": [
        "##Name: Jainisha Choksi\n",
        "\n",
        "##100 Python Problems from **Campusx**"
      ],
      "metadata": {
        "id": "A8RkrCRxW_rO"
      }
    },
    {
      "cell_type": "markdown",
      "source": [
        "User will input 3 ages.Find the oldest one."
      ],
      "metadata": {
        "id": "_DbXleCMXOLh"
      }
    },
    {
      "cell_type": "code",
      "execution_count": null,
      "metadata": {
        "colab": {
          "base_uri": "https://localhost:8080/"
        },
        "id": "QIV98bYCW7QL",
        "outputId": "4b8f520c-b28b-495e-8508-d0fc1dfe7f22"
      },
      "outputs": [
        {
          "name": "stdout",
          "output_type": "stream",
          "text": [
            "Enter age of 1st:  30\n",
            "Enter age of 2nd: 40\n",
            "ENter age of 3rd: 35\n"
          ]
        }
      ],
      "source": [
        "age1 = int(input(\"Enter age of 1st: \"))\n",
        "age2 = int(input(\"Enter age of 2nd: \"))\n",
        "age3 = int(input(\"Enter age of 3rd: \"))"
      ]
    },
    {
      "cell_type": "code",
      "source": [
        "if age1 > age2:\n",
        "  if age1 > age3:\n",
        "    print(\"Oldest is: \", age1)\n",
        "  else:\n",
        "    print(\"Oldest is: \", age3)\n",
        "else:\n",
        "  if age2 > age3:\n",
        "    print(\"Oldest id: \", age2)\n",
        "  else:\n",
        "    print(\"Oldest is: \",age3)"
      ],
      "metadata": {
        "colab": {
          "base_uri": "https://localhost:8080/"
        },
        "id": "uNujfCuwXwlQ",
        "outputId": "7aa4fc96-b94b-4028-869d-443e417e860d"
      },
      "execution_count": null,
      "outputs": [
        {
          "output_type": "stream",
          "name": "stdout",
          "text": [
            "Oldest id:  40\n"
          ]
        }
      ]
    },
    {
      "cell_type": "markdown",
      "source": [
        "Write a program that will convert celsius value to fahrenheit."
      ],
      "metadata": {
        "id": "hau2Z6l1YXQJ"
      }
    },
    {
      "cell_type": "code",
      "source": [
        "temperature = float(input(\"Enter temperatue: \"))"
      ],
      "metadata": {
        "colab": {
          "base_uri": "https://localhost:8080/"
        },
        "id": "OcqJobRfYVBH",
        "outputId": "75363dea-7426-43ab-f998-9327488700c4"
      },
      "execution_count": null,
      "outputs": [
        {
          "name": "stdout",
          "output_type": "stream",
          "text": [
            "Enter temperatue: 45.5\n"
          ]
        }
      ]
    },
    {
      "cell_type": "code",
      "source": [
        "far = ((9/5)*temperature) +32\n",
        "print(f\"{temperature}C is equal to {far}F\")"
      ],
      "metadata": {
        "colab": {
          "base_uri": "https://localhost:8080/"
        },
        "id": "_EFzETjjYszk",
        "outputId": "282fdb74-7a1d-4dbc-ff73-86d3255e88a2"
      },
      "execution_count": null,
      "outputs": [
        {
          "output_type": "stream",
          "name": "stdout",
          "text": [
            "45.5C is equal to 113.9F\n"
          ]
        }
      ]
    },
    {
      "cell_type": "markdown",
      "source": [
        "User will input 2 numbers. Write a program to swap the numbers."
      ],
      "metadata": {
        "id": "XCh1iFlLZKqv"
      }
    },
    {
      "cell_type": "code",
      "source": [
        "number1 = int(input(\"Enter 1st number: \"))\n",
        "number2 = int(input(\"Enter 2nd number: \"))"
      ],
      "metadata": {
        "colab": {
          "base_uri": "https://localhost:8080/"
        },
        "id": "MsGsyFAcZFYS",
        "outputId": "9bbe37ef-3b08-4e48-a916-994a879eae5c"
      },
      "execution_count": null,
      "outputs": [
        {
          "name": "stdout",
          "output_type": "stream",
          "text": [
            "Enter 1st number: 30\n",
            "Enter 2nd number: 50\n"
          ]
        }
      ]
    },
    {
      "cell_type": "code",
      "source": [
        "temp = number1\n",
        "number1 = number2\n",
        "number2 = temp\n",
        "print(\"After Swapping:\")\n",
        "print(\"Number1 =\", number1)\n",
        "print(\"Number2 =\", number2)"
      ],
      "metadata": {
        "colab": {
          "base_uri": "https://localhost:8080/"
        },
        "id": "JUsQFuWYZX3q",
        "outputId": "23fe38f2-fcd7-405c-e8af-3e57c506cc92"
      },
      "execution_count": null,
      "outputs": [
        {
          "output_type": "stream",
          "name": "stdout",
          "text": [
            "After Swapping:\n",
            "Number1 = 50\n",
            "Number2 = 30\n"
          ]
        }
      ]
    },
    {
      "cell_type": "code",
      "source": [
        "number1 = number1 + number2\n",
        "number2 = number1 - number2\n",
        "number1 = number1 - number2\n",
        "print(\"After Swapping:\")\n",
        "print(\"Number1 = \", number1)\n",
        "print(\"Number2 = \", number2)"
      ],
      "metadata": {
        "colab": {
          "base_uri": "https://localhost:8080/"
        },
        "id": "8PrnU1mRZn7R",
        "outputId": "8d10e1be-cfa9-491e-b5df-d9cebd48adc0"
      },
      "execution_count": null,
      "outputs": [
        {
          "output_type": "stream",
          "name": "stdout",
          "text": [
            "After Swapping:\n",
            "Number1 =  30\n",
            "Number2 =  50\n"
          ]
        }
      ]
    },
    {
      "cell_type": "markdown",
      "source": [
        "Write a program that will give you the sum of 3 digits"
      ],
      "metadata": {
        "id": "9byE_H0EalUQ"
      }
    },
    {
      "cell_type": "code",
      "source": [
        "digit1 = int(input(\"Enter 1st digit: \"))\n",
        "digit2 = int(input(\"Enter 2nd digit: \"))\n",
        "digit3 = int(input(\"Enter 3rd digit: \"))"
      ],
      "metadata": {
        "colab": {
          "base_uri": "https://localhost:8080/"
        },
        "id": "9ATCPVLWaaPc",
        "outputId": "1758229b-44cb-4b8d-88ff-3032179d3e90"
      },
      "execution_count": null,
      "outputs": [
        {
          "name": "stdout",
          "output_type": "stream",
          "text": [
            "Enter 1st digit: 20\n",
            "Enter 2nd digit: 32\n",
            "Enter 3rd digit: 45\n"
          ]
        }
      ]
    },
    {
      "cell_type": "code",
      "source": [
        "sum = digit1+ digit2+ digit3\n",
        "print(\"Total Sum = \", sum)"
      ],
      "metadata": {
        "colab": {
          "base_uri": "https://localhost:8080/"
        },
        "id": "3cKP2B59a2HN",
        "outputId": "cc4704c6-9876-43fb-d544-998b87c7f9e0"
      },
      "execution_count": null,
      "outputs": [
        {
          "output_type": "stream",
          "name": "stdout",
          "text": [
            "Total Sum =  97\n"
          ]
        }
      ]
    },
    {
      "cell_type": "markdown",
      "source": [
        "Write a program that will reverse a four digit number.Also it check whether the reverse is true."
      ],
      "metadata": {
        "id": "jFtGH5A1bDoc"
      }
    },
    {
      "cell_type": "code",
      "source": [
        "number = int(input(\"Enter a four digit number: \"))\n",
        "rev = 0\n",
        "while number!=0:\n",
        "  digit = number %10\n",
        "  rev = rev*10 +digit\n",
        "  number = number //10\n",
        "\n",
        "print(\"Reverse Number: \", rev)"
      ],
      "metadata": {
        "colab": {
          "base_uri": "https://localhost:8080/"
        },
        "id": "jl5FwAB4a-0R",
        "outputId": "e1e72ebe-1600-405d-8cdf-7a9e49abfc59"
      },
      "execution_count": null,
      "outputs": [
        {
          "output_type": "stream",
          "name": "stdout",
          "text": [
            "Enter a four digit number: 1234\n",
            "Reverse Number:  4321\n"
          ]
        }
      ]
    },
    {
      "cell_type": "code",
      "source": [
        "number = int(input(\"Enter a four digit number: \"))\n",
        "number = str(number)\n",
        "\n",
        "revs = number[::-1]\n",
        "revs = int(revs)\n",
        "print(\"Reverse Number: \", revs)"
      ],
      "metadata": {
        "colab": {
          "base_uri": "https://localhost:8080/"
        },
        "id": "PK1fZx3vb62G",
        "outputId": "90fc36fe-7994-479c-98b1-c81b44dfdca4"
      },
      "execution_count": null,
      "outputs": [
        {
          "output_type": "stream",
          "name": "stdout",
          "text": [
            "Enter a four digit number: 1234\n",
            "Reverse Number:  4321\n"
          ]
        }
      ]
    },
    {
      "cell_type": "markdown",
      "source": [
        "write a program that will tell whether the number entered by the user is odd or even"
      ],
      "metadata": {
        "id": "0ry-qH5reFR8"
      }
    },
    {
      "cell_type": "code",
      "source": [
        "number = int(input(\"Enter a number: \"))"
      ],
      "metadata": {
        "colab": {
          "base_uri": "https://localhost:8080/"
        },
        "id": "YFGj7kZdd70a",
        "outputId": "e424c62c-66f1-4df9-816f-d98a3be073de"
      },
      "execution_count": null,
      "outputs": [
        {
          "name": "stdout",
          "output_type": "stream",
          "text": [
            "Enter a number: 45\n"
          ]
        }
      ]
    },
    {
      "cell_type": "code",
      "source": [
        "if number %2 ==0:\n",
        "  print(f\"{number} is even.\")\n",
        "else:\n",
        "  print(f\"{number} is odd.\")"
      ],
      "metadata": {
        "colab": {
          "base_uri": "https://localhost:8080/"
        },
        "id": "C-Zo0LoTeRQ7",
        "outputId": "24a69b3e-b304-454c-a123-00bbebfe3eda"
      },
      "execution_count": null,
      "outputs": [
        {
          "output_type": "stream",
          "name": "stdout",
          "text": [
            "45 is odd.\n"
          ]
        }
      ]
    },
    {
      "cell_type": "markdown",
      "source": [
        "Write a program that will tell whether the given year is a leap or not"
      ],
      "metadata": {
        "id": "s3HxbgNWejPr"
      }
    },
    {
      "cell_type": "code",
      "source": [
        "year = int(input(\"Enter a Year: \"))\n",
        "\n",
        "if year % 4 == 0:\n",
        "    if year % 100 != 0 or year % 400 == 0:\n",
        "        print(f\"{year} is a Leap Year\")\n",
        "    else:\n",
        "        print(f\"{year} is not a Leap Year\")\n",
        "else:\n",
        "    print(f\"{year} is not a Leap Year\")"
      ],
      "metadata": {
        "colab": {
          "base_uri": "https://localhost:8080/"
        },
        "id": "N5S2Nr2fedly",
        "outputId": "3c7ced40-9c9d-4942-9d9f-cd2ddb79d180"
      },
      "execution_count": null,
      "outputs": [
        {
          "output_type": "stream",
          "name": "stdout",
          "text": [
            "Enter a Year: 2000\n",
            "2000 is a Leap Year\n"
          ]
        }
      ]
    },
    {
      "cell_type": "markdown",
      "source": [
        "Write a progrm to find the euclidean distance between two coordinates"
      ],
      "metadata": {
        "id": "z44kCmnnf5dP"
      }
    },
    {
      "cell_type": "code",
      "source": [
        "x1,y1 = map(float, input(\"Enter the coordinates of point1: \").split())\n",
        "x2,y2 = map(float, input(\"Enter the coordinates of point2: \").split())"
      ],
      "metadata": {
        "colab": {
          "base_uri": "https://localhost:8080/"
        },
        "id": "fPXL6StIfDJ5",
        "outputId": "d053ed2d-79e6-46db-f329-7099cfa0eb2a"
      },
      "execution_count": null,
      "outputs": [
        {
          "name": "stdout",
          "output_type": "stream",
          "text": [
            "Enter the coordinates of point1: 3 4.5\n",
            "Enter the coordinates of point2: 5.5 6\n"
          ]
        }
      ]
    },
    {
      "cell_type": "code",
      "source": [
        "x = (x1 - x2)**2\n",
        "y = (y1 - y2)**2\n",
        "dis = x + y\n",
        "dis = (dis)**(0.5)\n",
        "print(\"Euclidean distance is: \", dis)"
      ],
      "metadata": {
        "colab": {
          "base_uri": "https://localhost:8080/"
        },
        "id": "80Xdm2udgpJW",
        "outputId": "2304b49a-9cc7-43ac-88ec-337a500aec8e"
      },
      "execution_count": null,
      "outputs": [
        {
          "output_type": "stream",
          "name": "stdout",
          "text": [
            "Euclidean distance is:  2.9154759474226504\n"
          ]
        }
      ]
    },
    {
      "cell_type": "markdown",
      "source": [
        "Write a program that take a user input of 3 angles and will find out whether it can form a triangle or not."
      ],
      "metadata": {
        "id": "zA21SyAhhsBs"
      }
    },
    {
      "cell_type": "code",
      "source": [
        "angle1 = int(input(\"Enter angle 1: \"))\n",
        "angle2 = int(input(\"Enter angle 2: \"))\n",
        "angle3 = int(input(\"Enter angle 3: \"))"
      ],
      "metadata": {
        "colab": {
          "base_uri": "https://localhost:8080/"
        },
        "id": "C6T_aozrhYaQ",
        "outputId": "b79768bb-4d01-4f0b-f93e-c5c220ef0b3e"
      },
      "execution_count": null,
      "outputs": [
        {
          "name": "stdout",
          "output_type": "stream",
          "text": [
            "Enter angle 1: 90\n",
            "Enter angle 2: 45\n",
            "Enter angle 3: 45\n"
          ]
        }
      ]
    },
    {
      "cell_type": "code",
      "source": [
        "sum = angle1 + angle2 + angle3\n",
        "if sum == 180:\n",
        "  if (angle1 + angle2 > angle3) and (angle1 + angle3 > angle2) and (angle2+ angle3 > angle1):\n",
        "    print(\"This angles can make Triangle\")\n",
        "  else:\n",
        "    print(\"This angles can not make Triangle\")"
      ],
      "metadata": {
        "colab": {
          "base_uri": "https://localhost:8080/"
        },
        "id": "wOUbKnsTOBCC",
        "outputId": "ea55a653-dd5d-4997-9e47-23e50ceea5d9"
      },
      "execution_count": null,
      "outputs": [
        {
          "output_type": "stream",
          "name": "stdout",
          "text": [
            "This angles can not make Triangle\n"
          ]
        }
      ]
    },
    {
      "cell_type": "markdown",
      "source": [
        "Write a program that will take user input of cost price and price and determines whether its a loss or a profit."
      ],
      "metadata": {
        "id": "rReGetIJO8IE"
      }
    },
    {
      "cell_type": "code",
      "source": [
        "cp = float(input(\"Enter cost price of the article: \"))\n",
        "sp = float(input(\"Enter selling price of the article: \"))"
      ],
      "metadata": {
        "colab": {
          "base_uri": "https://localhost:8080/"
        },
        "id": "gQ431XmrOnaL",
        "outputId": "4bc5647c-a26e-4612-946f-c04b4200f1be"
      },
      "execution_count": null,
      "outputs": [
        {
          "name": "stdout",
          "output_type": "stream",
          "text": [
            "Enter cost price of the article: 58.9\n",
            "Enter selling price of the article: 98\n"
          ]
        }
      ]
    },
    {
      "cell_type": "code",
      "source": [
        "difference = sp-cp\n",
        "if difference > 0:\n",
        "  print(\"It's Profit.\")\n",
        "else:\n",
        "  print(\"It's Loss.\")"
      ],
      "metadata": {
        "colab": {
          "base_uri": "https://localhost:8080/"
        },
        "id": "f4m0jRrvPUlA",
        "outputId": "9f550089-5832-4bd0-cdfe-78a4a8813909"
      },
      "execution_count": null,
      "outputs": [
        {
          "output_type": "stream",
          "name": "stdout",
          "text": [
            "It's Profit.\n"
          ]
        }
      ]
    },
    {
      "cell_type": "code",
      "source": [
        "percentage = (difference/cp)*100\n",
        "if difference > 0:\n",
        "  print(\"Profit percentage: \", percentage)\n",
        "else:\n",
        "  print(\"Loss percentage: \", percentage)"
      ],
      "metadata": {
        "colab": {
          "base_uri": "https://localhost:8080/"
        },
        "id": "XMgOy2M6Puse",
        "outputId": "5357a5ec-fedd-494f-c82c-54ea1ec90044"
      },
      "execution_count": null,
      "outputs": [
        {
          "output_type": "stream",
          "name": "stdout",
          "text": [
            "Profit percentage:  66.383701188455\n"
          ]
        }
      ]
    },
    {
      "cell_type": "markdown",
      "source": [
        "Write a program to find the simple interest when the value of principal, rate of interest and time period is given"
      ],
      "metadata": {
        "id": "NWJp63lfQfTV"
      }
    },
    {
      "cell_type": "code",
      "source": [
        "principal = float(input(\"Enter the principal amount: \"))\n",
        "rate = float(input(\"Enter the Rate of Interest: \"))\n",
        "time = float(input(\"Enter the Time Period: \"))"
      ],
      "metadata": {
        "colab": {
          "base_uri": "https://localhost:8080/"
        },
        "id": "JRLv2m12QdPU",
        "outputId": "e465bcbd-b528-4102-a2ae-dcb52710a0aa"
      },
      "execution_count": null,
      "outputs": [
        {
          "name": "stdout",
          "output_type": "stream",
          "text": [
            "Enter the principal amount: 5000\n",
            "Enter the Rate of Interest: 5.6\n",
            "Enter the Time Period: 3\n"
          ]
        }
      ]
    },
    {
      "cell_type": "code",
      "source": [
        "si = (principal * rate * time)/100\n",
        "print(\"Simple Interest: \", si)"
      ],
      "metadata": {
        "colab": {
          "base_uri": "https://localhost:8080/"
        },
        "id": "BDrxvQrNXnuf",
        "outputId": "08bce8ff-9a00-45af-c90c-327a7c11fb33"
      },
      "execution_count": null,
      "outputs": [
        {
          "output_type": "stream",
          "name": "stdout",
          "text": [
            "Simple Interest:  840.0\n"
          ]
        }
      ]
    },
    {
      "cell_type": "markdown",
      "source": [
        "Write a program to find the volume of the cylinder.Also find the cost when, when the cost of 1 litre milk is rs 40."
      ],
      "metadata": {
        "id": "hvQh59dsYBBA"
      }
    },
    {
      "cell_type": "code",
      "source": [
        "radius = float(input(\"Enter radius in cm: \"))\n",
        "height = float(input(\"Enter height in cm: \"))"
      ],
      "metadata": {
        "colab": {
          "base_uri": "https://localhost:8080/"
        },
        "id": "7JEqp6bQXyuY",
        "outputId": "668aecaf-7953-46b2-d97c-53dd57d0f559"
      },
      "execution_count": null,
      "outputs": [
        {
          "name": "stdout",
          "output_type": "stream",
          "text": [
            "Enter radius: 4.4\n",
            "Enter height: 2\n"
          ]
        }
      ]
    },
    {
      "cell_type": "code",
      "source": [
        "volume = ((22/7)*radius*radius*height)\n",
        "print(\"The Volume of Cylinder: \", volume)"
      ],
      "metadata": {
        "colab": {
          "base_uri": "https://localhost:8080/"
        },
        "id": "Y0PqDORFYhTj",
        "outputId": "8a2f3862-1cea-40e5-f162-4080d104a426"
      },
      "execution_count": null,
      "outputs": [
        {
          "output_type": "stream",
          "name": "stdout",
          "text": [
            "The Volume of Cylinder:  121.69142857142859\n"
          ]
        }
      ]
    },
    {
      "cell_type": "code",
      "source": [
        "price = (volume *40)\n",
        "print(\"The cost for milk in cylinder is: \",price)"
      ],
      "metadata": {
        "colab": {
          "base_uri": "https://localhost:8080/"
        },
        "id": "pNoR1i2KY0ho",
        "outputId": "5608fc3f-a6c2-40ce-aad8-d39ec8778222"
      },
      "execution_count": null,
      "outputs": [
        {
          "output_type": "stream",
          "name": "stdout",
          "text": [
            "The cost for milk in cylinder is:  4867.657142857143\n"
          ]
        }
      ]
    },
    {
      "cell_type": "markdown",
      "source": [
        "Write a program that will tell whether the given number is divisible by 3 & 6."
      ],
      "metadata": {
        "id": "Ua7k-SedZ2XO"
      }
    },
    {
      "cell_type": "code",
      "source": [
        "number = int(input(\"Enter a number: \"))"
      ],
      "metadata": {
        "colab": {
          "base_uri": "https://localhost:8080/"
        },
        "id": "MDoNhvfYZZJX",
        "outputId": "d220e5a3-fe11-4b8c-9de8-3785c8651139"
      },
      "execution_count": null,
      "outputs": [
        {
          "name": "stdout",
          "output_type": "stream",
          "text": [
            "Enter a number: 18\n"
          ]
        }
      ]
    },
    {
      "cell_type": "code",
      "source": [
        "if number%3 == 0 and number%6== 0:\n",
        "  print(f\"The {number} is divisible by 3 and 6.\")\n",
        "elif number%3==0:\n",
        "  print(f\"The {number} is divisible by 3 only.\")\n",
        "elif number%6==0:\n",
        "  print(f\"The {number} is divisble by 6 only\")\n",
        "else:\n",
        "  print(f\"The {number} is not divisible by 3 and 6.\")"
      ],
      "metadata": {
        "colab": {
          "base_uri": "https://localhost:8080/"
        },
        "id": "biJh8THFaMiG",
        "outputId": "68347f11-ab11-4b45-fda5-36c9d4f65bda"
      },
      "execution_count": null,
      "outputs": [
        {
          "output_type": "stream",
          "name": "stdout",
          "text": [
            "The 18 is divisible by 3 and 6.\n"
          ]
        }
      ]
    },
    {
      "cell_type": "markdown",
      "source": [
        "Angle between hour and minute hand"
      ],
      "metadata": {
        "id": "GXxvXiZ8bKXI"
      }
    },
    {
      "cell_type": "code",
      "source": [
        "hour = int(input(\"Enter the hour: \"))\n",
        "minute = int(input(\"Enter the minute: \"))"
      ],
      "metadata": {
        "colab": {
          "base_uri": "https://localhost:8080/"
        },
        "id": "hCUBoNa-axNu",
        "outputId": "c7b687fa-0b36-45d2-de98-905d2ef9516d"
      },
      "execution_count": null,
      "outputs": [
        {
          "name": "stdout",
          "output_type": "stream",
          "text": [
            "Enter the hour: 4\n",
            "Enter the minute: 50\n"
          ]
        }
      ]
    },
    {
      "cell_type": "code",
      "source": [
        "angle = ((30*hour)-(11*minute))/2\n",
        "if angle>0:\n",
        "  print(\"The angle is: \", angle)\n",
        "else:\n",
        "  print(\"The angle is: \",(-1)*angle)"
      ],
      "metadata": {
        "colab": {
          "base_uri": "https://localhost:8080/"
        },
        "id": "HkIEL3AFbvMC",
        "outputId": "70e4e1af-5658-4b45-fc12-8edaed54daa0"
      },
      "execution_count": null,
      "outputs": [
        {
          "output_type": "stream",
          "name": "stdout",
          "text": [
            "The angle is:  215.0\n"
          ]
        }
      ]
    },
    {
      "cell_type": "markdown",
      "source": [
        "Overlapping Rectangles: Given 2 rectangles, find if the given 2 rectangles overlap or not.A rectangle is denoted by providing the x anf y coordinates of 2 points: the left top corner and the right bottom corner of the rextangle.Two rectangles sharing a side are considered overlapping."
      ],
      "metadata": {
        "id": "CXqaG1x7cMMX"
      }
    },
    {
      "cell_type": "code",
      "source": [
        "# Input for rectangle 1\n",
        "x1_rect1, y1_rect1 = map(int, input(\"Enter the x and y coordinates of the left top corner of rectangle 1 separated by space: \").split())\n",
        "x2_rect1, y2_rect1 = map(int, input(\"Enter the x and y coordinates of the right bottom corner of rectangle 1 separated by space: \").split())\n",
        "\n",
        "# Input for rectangle 2\n",
        "x1_rect2, y1_rect2 = map(int, input(\"Enter the x and y coordinates of the left top corner of rectangle 2 separated by space: \").split())\n",
        "x2_rect2, y2_rect2 = map(int, input(\"Enter the x and y coordinates of the right bottom corner of rectangle 2 separated by space: \").split())\n",
        "\n",
        "# Check if one rectangle is to the left of the other\n",
        "if x2_rect1 < x1_rect2 or x2_rect2 < x1_rect1:\n",
        "    print(\"Rectangles do not overlap.\")\n",
        "# Check if one rectangle is above the other\n",
        "elif y2_rect1 > y1_rect2 or y2_rect2 > y1_rect1:\n",
        "    print(\"Rectangles do not overlap.\")\n",
        "else:\n",
        "    print(\"Rectangles overlap.\")"
      ],
      "metadata": {
        "colab": {
          "base_uri": "https://localhost:8080/"
        },
        "id": "NyAqQE8TcGqr",
        "outputId": "4d66400c-43f4-4bec-b7de-3a61f68063f3"
      },
      "execution_count": null,
      "outputs": [
        {
          "output_type": "stream",
          "name": "stdout",
          "text": [
            "Enter the x and y coordinates of the left top corner of rectangle 1 separated by space: 4 5\n",
            "Enter the x and y coordinates of the right bottom corner of rectangle 1 separated by space: 5 3\n",
            "Enter the x and y coordinates of the left top corner of rectangle 2 separated by space: 3 4\n",
            "Enter the x and y coordinates of the right bottom corner of rectangle 2 separated by space: 5 1\n",
            "Rectangles overlap.\n"
          ]
        }
      ]
    },
    {
      "cell_type": "markdown",
      "source": [
        "Write a program that will determine weather when the value of temperature and humidity is provided by the user.\n",
        "\n",
        "TEMPERATURE(C)                     HUMIDITY(%)             WEATHER\n",
        "\n",
        "      >= 30                             >=90                Hot and Humid\n",
        "      >= 30                             < 90                 Hot\n",
        "      <30                                >= 90               Cool and Humid\n",
        "      <30                                 <90                 Cool\n"
      ],
      "metadata": {
        "id": "CmF103msdu68"
      }
    },
    {
      "cell_type": "code",
      "source": [
        "temperature = float(input(\"Enter temperature: \"))\n",
        "humidity = float(input(\"Enter humidity: \"))"
      ],
      "metadata": {
        "colab": {
          "base_uri": "https://localhost:8080/"
        },
        "id": "AazfRrFGdjUY",
        "outputId": "e150f46f-365c-49aa-b4d5-64b4f0a12d62"
      },
      "execution_count": null,
      "outputs": [
        {
          "name": "stdout",
          "output_type": "stream",
          "text": [
            "Enter temperature: 45\n",
            "Enter humidity: 55\n"
          ]
        }
      ]
    },
    {
      "cell_type": "code",
      "source": [
        "if temperature >= 30 and humidity >= 90:\n",
        "  print(\"Weather is Hot and Humid\")\n",
        "elif temperature >= 30 and humidity < 90:\n",
        "  print(\"Weather is Hot\")\n",
        "elif temperature <30 and humidity >= 90:\n",
        "  print(\"Weather is Cool and Humid\")\n",
        "elif temperature <30 and humidity <90:\n",
        "  print(\"Weather is Cool\")"
      ],
      "metadata": {
        "colab": {
          "base_uri": "https://localhost:8080/"
        },
        "id": "Rs_qJhO9ecAS",
        "outputId": "f075382f-044d-405d-bcef-b2ed6ebed7d3"
      },
      "execution_count": null,
      "outputs": [
        {
          "output_type": "stream",
          "name": "stdout",
          "text": [
            "Weather is Hot\n"
          ]
        }
      ]
    },
    {
      "cell_type": "markdown",
      "source": [
        "Write a program that will take 3 digits from the user and add the square of each digit"
      ],
      "metadata": {
        "id": "6mDmalJme-w6"
      }
    },
    {
      "cell_type": "code",
      "source": [
        "digit1 = int(input(\"Enter digit 1: \"))\n",
        "digit2 = int(input(\"Enter digit 2: \"))\n",
        "digit3 = int(input(\"Enter digit 3: \"))"
      ],
      "metadata": {
        "colab": {
          "base_uri": "https://localhost:8080/"
        },
        "id": "mpQgEwvUe7GG",
        "outputId": "76a762f5-4f26-4c59-a9ca-8abba024e404"
      },
      "execution_count": null,
      "outputs": [
        {
          "name": "stdout",
          "output_type": "stream",
          "text": [
            "Enter digit 1: 3\n",
            "Enter digit 2: 4\n",
            "Enter digit 3: 5\n"
          ]
        }
      ]
    },
    {
      "cell_type": "code",
      "source": [
        "square1 = digit1**2\n",
        "square2 = digit2**2\n",
        "square3 = digit3**2\n",
        "sum = square1 + square2 + square3\n",
        "print(\"The sum of sqaure is: \", sum)"
      ],
      "metadata": {
        "colab": {
          "base_uri": "https://localhost:8080/"
        },
        "id": "OpPBub1DfP12",
        "outputId": "567d608c-e1dd-4005-a36d-6152b035106b"
      },
      "execution_count": null,
      "outputs": [
        {
          "output_type": "stream",
          "name": "stdout",
          "text": [
            "The sum of sqaure is:  50\n"
          ]
        }
      ]
    },
    {
      "cell_type": "markdown",
      "source": [
        "Write a program that will check whether the number is armstrong number or not"
      ],
      "metadata": {
        "id": "zWWBW76kfsnd"
      }
    },
    {
      "cell_type": "code",
      "source": [
        "number = int(input(\"Enter a number: \"))\n",
        "original_number = number\n",
        "\n",
        "rev = 0\n",
        "sum_of_cubes = 0\n",
        "\n",
        "while number != 0:\n",
        "    digit = number % 10\n",
        "    rev = rev * 10 + digit\n",
        "    sum_of_cubes += digit ** 3\n",
        "    number = number // 10\n",
        "\n",
        "if original_number == sum_of_cubes:\n",
        "    print(f\"The {original_number} is an Armstrong number.\")\n",
        "else:\n",
        "    print(f\"The {original_number} is not an Armstrong number.\")\n"
      ],
      "metadata": {
        "colab": {
          "base_uri": "https://localhost:8080/"
        },
        "id": "ZGe2NTUxgHBW",
        "outputId": "c97baaae-e4c2-4347-e45a-33970933823c"
      },
      "execution_count": null,
      "outputs": [
        {
          "output_type": "stream",
          "name": "stdout",
          "text": [
            "Enter a number: 153\n",
            "The 153 is an Armstrong number.\n"
          ]
        }
      ]
    },
    {
      "cell_type": "markdown",
      "source": [
        "Write a program that will take user input of 4 digit number and check whether the number is narcissit number or not"
      ],
      "metadata": {
        "id": "7LXW55PvhZ45"
      }
    },
    {
      "cell_type": "code",
      "source": [
        "number = int(input(\"Enter a number: \"))\n",
        "power = int(input(\"Enter the power: \"))\n",
        "original = number\n",
        "rev = 0\n",
        "sum_power = 0\n",
        "while number !=0:\n",
        "  digit = number %10\n",
        "  rev = rev *10 +digit\n",
        "  sum_power = sum_power + (digit**power)\n",
        "  number = number//10\n",
        "\n",
        "if original ==sum_power:\n",
        "  print(f\"The {original} is Narcissist number\")\n",
        "else:\n",
        "  print(f\"The {original} is not Narcissist number\")"
      ],
      "metadata": {
        "colab": {
          "base_uri": "https://localhost:8080/"
        },
        "id": "byOVXG1Zgu2G",
        "outputId": "27cf6473-2082-44d8-9786-8d1aff8bd141"
      },
      "execution_count": null,
      "outputs": [
        {
          "output_type": "stream",
          "name": "stdout",
          "text": [
            "Enter a number: 250\n",
            "Enter the power: 2\n",
            "The 250 is not Narcissist number\n"
          ]
        }
      ]
    },
    {
      "cell_type": "markdown",
      "source": [
        "Write a program that will give you the in hand salary after deduction of HRA(10%), DA(5%), PF(3%) and tax(if salary is between  5-10 lakh 10%, 11-20 lakh 20%, 20< 30%)(0-1 lakh print k)"
      ],
      "metadata": {
        "id": "29m5CFxKiyOt"
      }
    },
    {
      "cell_type": "code",
      "source": [
        "salary = int(input(\"Enter your salary: \"))"
      ],
      "metadata": {
        "colab": {
          "base_uri": "https://localhost:8080/"
        },
        "id": "ZqS2_DZ5in3B",
        "outputId": "73e360c7-dc33-4b39-df8a-33ffdc1673c1"
      },
      "execution_count": null,
      "outputs": [
        {
          "name": "stdout",
          "output_type": "stream",
          "text": [
            "Enter your salary: 2500000\n"
          ]
        }
      ]
    },
    {
      "cell_type": "code",
      "source": [
        "hra = (salary*10)/100\n",
        "print(\"HRA: \",hra)\n",
        "da = (salary*5)/100\n",
        "print(\"DA:\", da)\n",
        "pf = (salary*3)/100\n",
        "print(\"PF: \", pf)\n",
        "if 500000 <= salary <= 1000000:\n",
        "  tax = (salary*10)/100\n",
        "elif 1100000 <= salary <= 2000000:\n",
        "  tax = (salary*20)/100\n",
        "elif salary > 2000000:\n",
        "  tax = (salary*30)/100\n",
        "\n",
        "print(\"Tax: \", tax)\n",
        "inhand = salary - hra - da - tax\n",
        "print(\"In-hand salary is: \", inhand)"
      ],
      "metadata": {
        "colab": {
          "base_uri": "https://localhost:8080/"
        },
        "id": "5XgJWivRjdv2",
        "outputId": "e8d4249a-17b1-4528-88d8-2491ba752d52"
      },
      "execution_count": null,
      "outputs": [
        {
          "output_type": "stream",
          "name": "stdout",
          "text": [
            "HRA:  250000.0\n",
            "DA: 125000.0\n",
            "PF:  75000.0\n",
            "Tax:  750000.0\n",
            "In-hand salary is:  1375000.0\n"
          ]
        }
      ]
    },
    {
      "cell_type": "markdown",
      "source": [
        "Write a menu driven program - 1.cm to ft  2.kl to miles  3.usd to inr  4.exit"
      ],
      "metadata": {
        "id": "rQkoQci_ki8F"
      }
    },
    {
      "cell_type": "code",
      "source": [
        "while True:\n",
        "    print(\"\\nMenu:\")\n",
        "    print(\"1. Convert centimeters to feet\")\n",
        "    print(\"2. Convert kilometers to miles\")\n",
        "    print(\"3. Convert US dollars to Indian Rupees\")\n",
        "    print(\"4. Exit\")\n",
        "\n",
        "    choice = input(\"Enter your choice (1/2/3/4): \")\n",
        "\n",
        "    if choice == '1':\n",
        "        cm = float(input(\"Enter length in centimeters: \"))\n",
        "        feet = cm / 30.48\n",
        "        print(f\"{cm} centimeters is equal to {feet:.2f} feet\")\n",
        "    elif choice == '2':\n",
        "        km = float(input(\"Enter distance in kilometers: \"))\n",
        "        miles = km * 0.621371\n",
        "        print(f\"{km} kilometers is equal to {miles:.2f} miles\")\n",
        "    elif choice == '3':\n",
        "        usd = float(input(\"Enter amount in US dollars: \"))\n",
        "        inr = usd * 74.68\n",
        "        print(f\"{usd} US dollars is equal to {inr:.2f} Indian Rupees\")\n",
        "    elif choice == '4':\n",
        "        print(\"Exiting program. Goodbye!\")\n",
        "        break\n",
        "    else:\n",
        "        print(\"Invalid choice. Please enter a valid option (1/2/3/4).\")"
      ],
      "metadata": {
        "colab": {
          "base_uri": "https://localhost:8080/"
        },
        "id": "tt_-ARvckQDj",
        "outputId": "c2684188-2f25-4e64-c974-7548f2b5d340"
      },
      "execution_count": null,
      "outputs": [
        {
          "output_type": "stream",
          "name": "stdout",
          "text": [
            "\n",
            "Menu:\n",
            "1. Convert centimeters to feet\n",
            "2. Convert kilometers to miles\n",
            "3. Convert US dollars to Indian Rupees\n",
            "4. Exit\n",
            "Enter your choice (1/2/3/4): 3\n",
            "Enter amount in US dollars: 590\n",
            "590.0 US dollars is equal to 44061.20 Indian Rupees\n",
            "\n",
            "Menu:\n",
            "1. Convert centimeters to feet\n",
            "2. Convert kilometers to miles\n",
            "3. Convert US dollars to Indian Rupees\n",
            "4. Exit\n",
            "Enter your choice (1/2/3/4): 2\n",
            "Enter distance in kilometers: 43\n",
            "43.0 kilometers is equal to 26.72 miles\n",
            "\n",
            "Menu:\n",
            "1. Convert centimeters to feet\n",
            "2. Convert kilometers to miles\n",
            "3. Convert US dollars to Indian Rupees\n",
            "4. Exit\n",
            "Enter your choice (1/2/3/4): 1\n",
            "Enter length in centimeters: 3423\n",
            "3423.0 centimeters is equal to 112.30 feet\n",
            "\n",
            "Menu:\n",
            "1. Convert centimeters to feet\n",
            "2. Convert kilometers to miles\n",
            "3. Convert US dollars to Indian Rupees\n",
            "4. Exit\n",
            "Enter your choice (1/2/3/4): 4\n",
            "Exiting program. Goodbye!\n"
          ]
        }
      ]
    },
    {
      "cell_type": "markdown",
      "source": [
        "Write a program that will tell the number of dogs and chicken are there when the user will provide the value of total heads and legs."
      ],
      "metadata": {
        "id": "2etEDJqlmS5S"
      }
    },
    {
      "cell_type": "code",
      "source": [
        "head = int(input(\"Enter number of heads: \"))\n",
        "legs = int(input(\"Enter number of legs: \"))"
      ],
      "metadata": {
        "colab": {
          "base_uri": "https://localhost:8080/"
        },
        "id": "YBQYFKJSmKJM",
        "outputId": "5910255a-aaba-48f1-fdf4-f07c567031bc"
      },
      "execution_count": null,
      "outputs": [
        {
          "name": "stdout",
          "output_type": "stream",
          "text": [
            "Enter number of heads: 2\n",
            "Enter number of legs: 8\n"
          ]
        }
      ]
    },
    {
      "cell_type": "code",
      "source": [
        "heads = 4*head\n",
        "chicken = (heads - legs)/2\n",
        "dog = (head - chicken)\n",
        "\n",
        "print(f\"Number of {dog} dogs and {chicken} chickens.\")"
      ],
      "metadata": {
        "colab": {
          "base_uri": "https://localhost:8080/"
        },
        "id": "Hi_aSCtFnbNP",
        "outputId": "3b556efd-efcc-4d1c-c2ba-06239f086f46"
      },
      "execution_count": null,
      "outputs": [
        {
          "output_type": "stream",
          "name": "stdout",
          "text": [
            "Number of 2.0 dogs and 0.0 chickens.\n"
          ]
        }
      ]
    },
    {
      "cell_type": "markdown",
      "source": [
        "Write a program to find the sum of first n number , where n will be provided by the user."
      ],
      "metadata": {
        "id": "h_8SGVqjn5Sj"
      }
    },
    {
      "cell_type": "code",
      "source": [
        "n = int(input(\"Enter a number: \"))\n",
        "sum = 0\n",
        "for i in range (n+1):\n",
        "  sum = sum + i\n",
        "print(\"The sum of n numbers is: \", sum)"
      ],
      "metadata": {
        "colab": {
          "base_uri": "https://localhost:8080/"
        },
        "id": "YSlGrDCmoCGg",
        "outputId": "3ff16ff7-bf96-4325-f740-65ebfa3e7292"
      },
      "execution_count": null,
      "outputs": [
        {
          "output_type": "stream",
          "name": "stdout",
          "text": [
            "Enter a number: 10\n",
            "The sum of n numbers is:  55\n"
          ]
        }
      ]
    },
    {
      "cell_type": "code",
      "source": [
        "sum = 0\n",
        "while n != 0:\n",
        "  sum = sum + n\n",
        "  n= n-1\n",
        "print(\"The sum of n numbers is: \",sum)"
      ],
      "metadata": {
        "colab": {
          "base_uri": "https://localhost:8080/"
        },
        "id": "f-4PA8vIoQkQ",
        "outputId": "c72f4c67-0027-4f88-a0cb-cef824c7e694"
      },
      "execution_count": null,
      "outputs": [
        {
          "output_type": "stream",
          "name": "stdout",
          "text": [
            "The sum of n numbers is:  55\n"
          ]
        }
      ]
    },
    {
      "cell_type": "markdown",
      "source": [
        "Write a program that can multiply 2 numbers provided by the user without using * operator"
      ],
      "metadata": {
        "id": "8D7vaU1uoj6M"
      }
    },
    {
      "cell_type": "code",
      "source": [
        "number1 = int(input(\"Enter 1st number: \"))\n",
        "number2 = int(input(\"Enter 2nd number: \"))"
      ],
      "metadata": {
        "colab": {
          "base_uri": "https://localhost:8080/"
        },
        "id": "rZ0JBbQSoiSN",
        "outputId": "52be9734-8324-400f-9465-ef12b3987385"
      },
      "execution_count": null,
      "outputs": [
        {
          "name": "stdout",
          "output_type": "stream",
          "text": [
            "Enter 1st number: 4\n",
            "Enter 2nd number: 5\n"
          ]
        }
      ]
    },
    {
      "cell_type": "code",
      "source": [
        "multiply = 0\n",
        "for i in range (number1):\n",
        "  multiply = multiply + number2\n",
        "\n",
        "print(f\"The multiplication of {number1} and {number2} is {multiply}\")"
      ],
      "metadata": {
        "colab": {
          "base_uri": "https://localhost:8080/"
        },
        "id": "tQTWGPooo1ps",
        "outputId": "e58b1728-1338-4a7c-ddd2-40e3809b1367"
      },
      "execution_count": null,
      "outputs": [
        {
          "output_type": "stream",
          "name": "stdout",
          "text": [
            "The multiplication of 4 and 5 is 20\n"
          ]
        }
      ]
    },
    {
      "cell_type": "markdown",
      "source": [
        "Write a program that can find the factorial of a given number provided by the user."
      ],
      "metadata": {
        "id": "zQdS22tapUuQ"
      }
    },
    {
      "cell_type": "code",
      "source": [
        "number = int(input(\"Enter a number: \"))\n",
        "fact = 1\n",
        "for i in range (1,number +1):\n",
        "  fact = fact*i\n",
        "print(f\"The factorial of {number} is {fact}.\")"
      ],
      "metadata": {
        "colab": {
          "base_uri": "https://localhost:8080/"
        },
        "id": "j7-Gu-U6pMC8",
        "outputId": "6ab6a4fc-58c3-4016-f574-5fd758e0b790"
      },
      "execution_count": null,
      "outputs": [
        {
          "output_type": "stream",
          "name": "stdout",
          "text": [
            "Enter a number: 5\n",
            "The factorial of 5 is 120.\n"
          ]
        }
      ]
    },
    {
      "cell_type": "code",
      "source": [
        "number = int(input(\"Enter a number: \"))\n",
        "fact = 1\n",
        "original = number\n",
        "while number != 1:\n",
        "  fact = fact *number\n",
        "  number = number-1\n",
        "print(f\"The factorial of {original} is {fact}\")"
      ],
      "metadata": {
        "colab": {
          "base_uri": "https://localhost:8080/"
        },
        "id": "4bnUzhAJp0Fp",
        "outputId": "69b6d68e-4a6a-4a76-e589-d135f241aba3"
      },
      "execution_count": null,
      "outputs": [
        {
          "output_type": "stream",
          "name": "stdout",
          "text": [
            "Enter a number: 5\n",
            "The factorial of 5 is 120\n"
          ]
        }
      ]
    },
    {
      "cell_type": "markdown",
      "source": [
        "Write a program to print the first 25 odd number"
      ],
      "metadata": {
        "id": "fKj7wVZcqR1R"
      }
    },
    {
      "cell_type": "code",
      "source": [
        "n = int(input(\"Enter a number: \"))\n",
        "for i in range(n+1):\n",
        "  if i%2 != 0:\n",
        "    print(i,\" \")"
      ],
      "metadata": {
        "colab": {
          "base_uri": "https://localhost:8080/"
        },
        "id": "ExownsL8qFQC",
        "outputId": "0fbc765b-3cad-4e2b-9325-027d0e39c66b"
      },
      "execution_count": null,
      "outputs": [
        {
          "output_type": "stream",
          "name": "stdout",
          "text": [
            "Enter a number: 50\n",
            "1  \n",
            "3  \n",
            "5  \n",
            "7  \n",
            "9  \n",
            "11  \n",
            "13  \n",
            "15  \n",
            "17  \n",
            "19  \n",
            "21  \n",
            "23  \n",
            "25  \n",
            "27  \n",
            "29  \n",
            "31  \n",
            "33  \n",
            "35  \n",
            "37  \n",
            "39  \n",
            "41  \n",
            "43  \n",
            "45  \n",
            "47  \n",
            "49  \n"
          ]
        }
      ]
    },
    {
      "cell_type": "markdown",
      "source": [
        "Write a program to print whether a given number is prime number or not."
      ],
      "metadata": {
        "id": "TVAKqLUcqvzk"
      }
    },
    {
      "cell_type": "code",
      "source": [
        "number = int(input(\"Enter a number: \"))\n",
        "\n",
        "if number > 1:\n",
        "    is_prime = True\n",
        "    for i in range(2, int(number**0.5) + 1):\n",
        "        if number % i == 0:\n",
        "            is_prime = False\n",
        "            break\n",
        "    if is_prime:\n",
        "        print(f\"{number} is a prime number.\")\n",
        "    else:\n",
        "        print(f\"{number} is not a prime number.\")\n",
        "else:\n",
        "    print(\"Prime numbers are greater than 1.\")"
      ],
      "metadata": {
        "colab": {
          "base_uri": "https://localhost:8080/"
        },
        "id": "v2EHCtjEqkUa",
        "outputId": "ea02ccb9-36b1-45da-e3aa-b442dc32b0ff"
      },
      "execution_count": null,
      "outputs": [
        {
          "output_type": "stream",
          "name": "stdout",
          "text": [
            "Enter a number: 73\n",
            "73 is a prime number.\n"
          ]
        }
      ]
    },
    {
      "cell_type": "markdown",
      "source": [
        "Print all the armstrong numbers in the range of 100 to 1000."
      ],
      "metadata": {
        "id": "V0VEx12XrSI0"
      }
    },
    {
      "cell_type": "code",
      "source": [
        "for number in range(100, 1000):\n",
        "    num_digits = len(str(number))\n",
        "    sum_of_powers = 0\n",
        "    temp = number\n",
        "    while temp > 0:\n",
        "        digit = temp % 10\n",
        "        sum_of_powers += digit ** num_digits\n",
        "        temp //= 10\n",
        "    if number == sum_of_powers:\n",
        "        print(number)\n"
      ],
      "metadata": {
        "colab": {
          "base_uri": "https://localhost:8080/"
        },
        "id": "C8ncukmgrLgP",
        "outputId": "4ff111da-b703-4091-b8d2-f191fc4b6bf6"
      },
      "execution_count": null,
      "outputs": [
        {
          "output_type": "stream",
          "name": "stdout",
          "text": [
            "153\n",
            "370\n",
            "371\n",
            "407\n"
          ]
        }
      ]
    },
    {
      "cell_type": "markdown",
      "source": [
        "The current population of a town is 10000. The population of the town is increasing at the rate of 10% per year. You have to write a program to find out the population at the end of each of the last 10 years."
      ],
      "metadata": {
        "id": "0SmGm3YtsDfm"
      }
    },
    {
      "cell_type": "code",
      "source": [
        "population = int(input(\"Enter the current population: \"))\n",
        "for i in range (1,11):\n",
        "  percentage = (population *10)/100\n",
        "  population = population - percentage\n",
        "  print(f\"The population in {11-i} is population: {population} \")"
      ],
      "metadata": {
        "colab": {
          "base_uri": "https://localhost:8080/"
        },
        "id": "yhrP8NwIrQoT",
        "outputId": "d1dee1e2-3810-4b1a-b668-f77aac5ddc78"
      },
      "execution_count": null,
      "outputs": [
        {
          "output_type": "stream",
          "name": "stdout",
          "text": [
            "Enter the current population: 10000\n",
            "The population in 10 is population: 9000.0 \n",
            "The population in 9 is population: 8100.0 \n",
            "The population in 8 is population: 7290.0 \n",
            "The population in 7 is population: 6561.0 \n",
            "The population in 6 is population: 5904.9 \n",
            "The population in 5 is population: 5314.41 \n",
            "The population in 4 is population: 4782.969 \n",
            "The population in 3 is population: 4304.6721 \n",
            "The population in 2 is population: 3874.20489 \n",
            "The population in 1 is population: 3486.784401 \n"
          ]
        }
      ]
    },
    {
      "cell_type": "markdown",
      "source": [
        "Write a program to print all unique combinations of 1,2,3 and 4."
      ],
      "metadata": {
        "id": "3GslBOG5tdX7"
      }
    },
    {
      "cell_type": "code",
      "source": [
        "from itertools import combinations\n",
        "\n",
        "elements = [1, 2, 3, 4]\n",
        "\n",
        "for r in range(1, len(elements) + 1):\n",
        "    for combination in combinations(elements, r):\n",
        "        print(combination)"
      ],
      "metadata": {
        "colab": {
          "base_uri": "https://localhost:8080/"
        },
        "id": "q-ooJTe1tNlq",
        "outputId": "ec2411cc-8d28-42f8-9828-ea544dac0bb8"
      },
      "execution_count": null,
      "outputs": [
        {
          "output_type": "stream",
          "name": "stdout",
          "text": [
            "(1,)\n",
            "(2,)\n",
            "(3,)\n",
            "(4,)\n",
            "(1, 2)\n",
            "(1, 3)\n",
            "(1, 4)\n",
            "(2, 3)\n",
            "(2, 4)\n",
            "(3, 4)\n",
            "(1, 2, 3)\n",
            "(1, 2, 4)\n",
            "(1, 3, 4)\n",
            "(2, 3, 4)\n",
            "(1, 2, 3, 4)\n"
          ]
        }
      ]
    },
    {
      "cell_type": "markdown",
      "source": [
        "User will provide 2 numbers you have to find the HCF of those 2 numbers"
      ],
      "metadata": {
        "id": "ovk15ipOt9Gu"
      }
    },
    {
      "cell_type": "code",
      "source": [
        "number1 = int(input(\"Enter 1st number: \"))\n",
        "number2 = int(input(\"Enter 2nd number: \"))"
      ],
      "metadata": {
        "colab": {
          "base_uri": "https://localhost:8080/"
        },
        "id": "pL9enjWst6Q1",
        "outputId": "c45aa67b-2763-4d03-f46d-4ae461d5ae09"
      },
      "execution_count": null,
      "outputs": [
        {
          "name": "stdout",
          "output_type": "stream",
          "text": [
            "Enter 1st number: 6\n",
            "Enter 2nd number: 9\n"
          ]
        }
      ]
    },
    {
      "cell_type": "code",
      "source": [
        "if number1 > number2:\n",
        "  small = number2\n",
        "else:\n",
        "  small = number1\n",
        "\n",
        "for i in range(1,small+1):\n",
        "  if number1 %i == 0 and number2 % i == 0:\n",
        "    hcf = i\n",
        "print(\"HCF is: \",hcf)"
      ],
      "metadata": {
        "colab": {
          "base_uri": "https://localhost:8080/"
        },
        "id": "TT4wk_8xuy9D",
        "outputId": "65fa3d6a-901b-424a-a236-0d27894b23aa"
      },
      "execution_count": null,
      "outputs": [
        {
          "output_type": "stream",
          "name": "stdout",
          "text": [
            "HCF is:  3\n"
          ]
        }
      ]
    },
    {
      "cell_type": "markdown",
      "source": [
        "User will provide 2 numbers you have to find the by LCM of those 2 numbers."
      ],
      "metadata": {
        "id": "kKEEp88zvV0M"
      }
    },
    {
      "cell_type": "code",
      "source": [
        "number1 = int(input(\"Enter 1st number: \"))\n",
        "number2 = int(input(\"Enter 2nd number: \"))"
      ],
      "metadata": {
        "colab": {
          "base_uri": "https://localhost:8080/"
        },
        "id": "koyUuTbZvQFT",
        "outputId": "6421327f-cb91-4576-ab59-63226ba715bf"
      },
      "execution_count": null,
      "outputs": [
        {
          "name": "stdout",
          "output_type": "stream",
          "text": [
            "Enter 1st number: 3\n",
            "Enter 2nd number: 5\n"
          ]
        }
      ]
    },
    {
      "cell_type": "code",
      "source": [
        "if number1  > number2:\n",
        "  small = number2\n",
        "else:\n",
        "  small = number1\n",
        "\n",
        "for i in range (1, small+1):\n",
        "  if number1%i == 0 and number2%i ==0:\n",
        "    hcf = i\n",
        "\n",
        "num = number1*number2\n",
        "lcm = num/hcf\n",
        "\n",
        "print(\"The LCM is: \",lcm)"
      ],
      "metadata": {
        "colab": {
          "base_uri": "https://localhost:8080/"
        },
        "id": "sSDU2upHvj-J",
        "outputId": "5b288205-bf04-409d-fe86-54d64af177f9"
      },
      "execution_count": null,
      "outputs": [
        {
          "output_type": "stream",
          "name": "stdout",
          "text": [
            "The LCM is:  15.0\n"
          ]
        }
      ]
    },
    {
      "cell_type": "markdown",
      "source": [
        "Print first 25 prime number"
      ],
      "metadata": {
        "id": "R1pVISjgwE_Q"
      }
    },
    {
      "cell_type": "code",
      "source": [
        "def is_prime(num):\n",
        "    if num <= 1:\n",
        "        return False\n",
        "    for i in range(2, int(num ** 0.5) + 1):\n",
        "        if num % i == 0:\n",
        "            return False\n",
        "    return True\n",
        "\n",
        "count = 0\n",
        "num = 2\n",
        "print(\"First 25 prime numbers:\")\n",
        "while count < 25:\n",
        "    if is_prime(num):\n",
        "        print(num, end=\" \")\n",
        "        count += 1\n",
        "    num += 1"
      ],
      "metadata": {
        "colab": {
          "base_uri": "https://localhost:8080/"
        },
        "id": "VeomPwyjwDLD",
        "outputId": "a21f0034-4bb1-4e4a-8360-38d2521c0a13"
      },
      "execution_count": null,
      "outputs": [
        {
          "output_type": "stream",
          "name": "stdout",
          "text": [
            "First 25 prime numbers:\n",
            "2 3 5 7 11 13 17 19 23 29 31 37 41 43 47 53 59 61 67 71 73 79 83 89 97 "
          ]
        }
      ]
    },
    {
      "cell_type": "markdown",
      "source": [
        "Print the first 20 numbers of a Fibonacci series"
      ],
      "metadata": {
        "id": "8u0P11OJwWE6"
      }
    },
    {
      "cell_type": "code",
      "source": [
        "n1 = 1\n",
        "n2 = 1\n",
        "for i in range (1,21):\n",
        "  n = n1+n2\n",
        "  n1 = n2\n",
        "  n2 = n\n",
        "  print(n)"
      ],
      "metadata": {
        "colab": {
          "base_uri": "https://localhost:8080/"
        },
        "id": "7YuVZhqWwUIi",
        "outputId": "b3bf4b08-83cf-4bd0-d235-1a7935d924d7"
      },
      "execution_count": null,
      "outputs": [
        {
          "output_type": "stream",
          "name": "stdout",
          "text": [
            "2\n",
            "3\n",
            "5\n",
            "8\n",
            "13\n",
            "21\n",
            "34\n",
            "55\n",
            "89\n",
            "144\n",
            "233\n",
            "377\n",
            "610\n",
            "987\n",
            "1597\n",
            "2584\n",
            "4181\n",
            "6765\n",
            "10946\n",
            "17711\n"
          ]
        }
      ]
    },
    {
      "cell_type": "markdown",
      "source": [
        "Write a program to find the compound interest."
      ],
      "metadata": {
        "id": "EUTIyat1xYQY"
      }
    },
    {
      "cell_type": "code",
      "source": [
        "principal = int(input(\"Enter principal: \"))\n",
        "rate = int(input(\"Enter rate of interest: \"))/100\n",
        "time = int(input(\"Enter time period: \"))\n",
        "n = int(input(\"Compuond Interest Time: \"))\n",
        "\n",
        "x = rate/n\n",
        "y = n*time\n",
        "\n",
        "amount = (principal*(1+x)**y)\n",
        "ci = amount - principal\n",
        "\n",
        "print(f\"The amount for caculating compound interest of {rate} for {time} on {principal} is {amount} and compound interest is {ci} \")"
      ],
      "metadata": {
        "colab": {
          "base_uri": "https://localhost:8080/"
        },
        "id": "qXxqFVAywpgV",
        "outputId": "815db2ac-7607-4f2a-a684-f9b99906ea7b"
      },
      "execution_count": null,
      "outputs": [
        {
          "output_type": "stream",
          "name": "stdout",
          "text": [
            "Enter principal: 1000\n",
            "Enter rate of interest: 3\n",
            "Enter time period: 2\n",
            "Compuond Interest Time: 5\n",
            "The amount for caculating compound interest of 0.03 for 2 on 1000 is 1061.6461941293835 and compound interest is 61.6461941293835 \n"
          ]
        }
      ]
    },
    {
      "cell_type": "markdown",
      "source": [
        "Write a Python program that accepts an integer (n) and computes the value of n + nn + nnn."
      ],
      "metadata": {
        "id": "eSMP8qRWzUXV"
      }
    },
    {
      "cell_type": "code",
      "source": [
        "n = int(input(\"Enter a 1 digit number: \"))\n",
        "\n",
        "result = n + int(str(n)*2) + int(str(n)*3)\n",
        "print(f\"The result for {n} is {result}\")"
      ],
      "metadata": {
        "colab": {
          "base_uri": "https://localhost:8080/"
        },
        "id": "dp2lWz5Rylub",
        "outputId": "fd1be12f-7992-4836-a4ec-dcd8b8b42d4a"
      },
      "execution_count": null,
      "outputs": [
        {
          "output_type": "stream",
          "name": "stdout",
          "text": [
            "Enter a 1 digit number: 5\n",
            "The result for 5 is 615\n"
          ]
        }
      ]
    },
    {
      "cell_type": "markdown",
      "source": [
        "Take a number from the user and find the number of digits in it"
      ],
      "metadata": {
        "id": "HdxEuyog0qWv"
      }
    },
    {
      "cell_type": "code",
      "source": [
        "number = int(input(\"Enter a number: \"))\n",
        "\n",
        "length = len(str(number))\n",
        "print(f\"The number of digits in {number} is {length}\")"
      ],
      "metadata": {
        "colab": {
          "base_uri": "https://localhost:8080/"
        },
        "id": "7kbsINh2zylJ",
        "outputId": "5683ca85-2741-4aa1-b6c9-746009c2a878"
      },
      "execution_count": null,
      "outputs": [
        {
          "output_type": "stream",
          "name": "stdout",
          "text": [
            "Enter a number: 53\n",
            "The number of digits in 53 is 2\n"
          ]
        }
      ]
    },
    {
      "cell_type": "markdown",
      "source": [
        "Print all factors of a given number provided by the user."
      ],
      "metadata": {
        "id": "VKz01UAm1AKe"
      }
    },
    {
      "cell_type": "code",
      "source": [
        "number = int(input(\"Enter a number: \"))\n",
        "for i in range (1,number+1):\n",
        "  if number%i==0:\n",
        "    print(i)"
      ],
      "metadata": {
        "id": "sJx08vyW02FV",
        "colab": {
          "base_uri": "https://localhost:8080/"
        },
        "outputId": "a8d2dab6-a834-4efd-bd1c-7fcd77492e7b"
      },
      "execution_count": 1,
      "outputs": [
        {
          "output_type": "stream",
          "name": "stdout",
          "text": [
            "Enter a number: 6\n",
            "1\n",
            "2\n",
            "3\n",
            "6\n"
          ]
        }
      ]
    },
    {
      "cell_type": "markdown",
      "source": [
        "Write a program to print the following pattern:\n",
        "\n",
        "*\n",
        "\n",
        "**\n",
        "\n",
        "***\n",
        "\n",
        "****\n",
        "\n",
        "*****"
      ],
      "metadata": {
        "id": "BxjTZeJE2P7i"
      }
    },
    {
      "cell_type": "code",
      "source": [
        "for i in range (1,6):\n",
        "  print(\"*\"*i)"
      ],
      "metadata": {
        "colab": {
          "base_uri": "https://localhost:8080/"
        },
        "id": "pkJOa63v2IQV",
        "outputId": "9f97d532-e4ef-4514-c44e-1822c726fd8f"
      },
      "execution_count": 3,
      "outputs": [
        {
          "output_type": "stream",
          "name": "stdout",
          "text": [
            "*\n",
            "**\n",
            "***\n",
            "****\n",
            "*****\n"
          ]
        }
      ]
    },
    {
      "cell_type": "markdown",
      "source": [
        "Write a program to print the following pattern:\n",
        "\n",
        "*\n",
        "\n",
        "**\n",
        "\n",
        "***\n",
        "\n",
        "**\n",
        "\n",
        "*"
      ],
      "metadata": {
        "id": "2sGgDTt42qx9"
      }
    },
    {
      "cell_type": "code",
      "source": [
        "for i in range (1,4):\n",
        "  print(\"*\"*i)\n",
        "for i in range (1,3):\n",
        "  print(\"*\"*(3-i))"
      ],
      "metadata": {
        "colab": {
          "base_uri": "https://localhost:8080/"
        },
        "id": "6vnWOiHl2mfs",
        "outputId": "7e578f15-47ed-490a-c7c7-5218e17de97e"
      },
      "execution_count": 4,
      "outputs": [
        {
          "output_type": "stream",
          "name": "stdout",
          "text": [
            "*\n",
            "**\n",
            "***\n",
            "**\n",
            "*\n"
          ]
        }
      ]
    },
    {
      "cell_type": "markdown",
      "source": [
        "Write  a program to print the following pattern\n",
        "\n",
        "        *\n",
        "        \n",
        "      * * *\n",
        "\n",
        "    * * * * *\n",
        "\n",
        "   * * * * * * *\n"
      ],
      "metadata": {
        "id": "b6lyBSxV3Vht"
      }
    },
    {
      "cell_type": "code",
      "source": [
        "for i in range (1,10):\n",
        "  if i%2 != 0:\n",
        "    print(\" \"*int((9-i)/2), \"*\"*i, \" \"*int((9-i)/2))"
      ],
      "metadata": {
        "colab": {
          "base_uri": "https://localhost:8080/"
        },
        "id": "SZ_nBGqA3GR3",
        "outputId": "ea36069b-3c56-43fe-ddc6-0ea0c9f4f94f"
      },
      "execution_count": 8,
      "outputs": [
        {
          "output_type": "stream",
          "name": "stdout",
          "text": [
            "     *     \n",
            "    ***    \n",
            "   *****   \n",
            "  *******  \n",
            " ********* \n"
          ]
        }
      ]
    },
    {
      "cell_type": "markdown",
      "source": [
        "Write a program to print the following pattern\n",
        "\n",
        "1\n",
        "\n",
        "1 2 1\n",
        "\n",
        "1 2 3 2 1\n",
        "\n",
        "1 2 3 4 3 2 1\n",
        "\n",
        "1 2 3 4 5 4 3 2 1\n"
      ],
      "metadata": {
        "id": "aZeRiXI74NWc"
      }
    },
    {
      "cell_type": "code",
      "source": [
        "for i in range (1,6):\n",
        "  for j in range (1,i+1):\n",
        "    print(j,end = \" \")\n",
        "  for j in range (1,i):\n",
        "    print(i-j, end = \" \")\n",
        "  print()"
      ],
      "metadata": {
        "colab": {
          "base_uri": "https://localhost:8080/"
        },
        "id": "rQooy9wV39_J",
        "outputId": "77d09d0d-8264-443c-fc39-c8236dfb1226"
      },
      "execution_count": 10,
      "outputs": [
        {
          "output_type": "stream",
          "name": "stdout",
          "text": [
            "1 \n",
            "1 2 1 \n",
            "1 2 3 2 1 \n",
            "1 2 3 4 3 2 1 \n",
            "1 2 3 4 5 4 3 2 1 \n"
          ]
        }
      ]
    },
    {
      "cell_type": "markdown",
      "source": [
        "Write a program to print the following pattern\n",
        "\n",
        "1\n",
        "\n",
        "2 3\n",
        "\n",
        "4 5 6\n",
        "\n",
        "7 8 9 10\n"
      ],
      "metadata": {
        "id": "UFWWeMca5HMc"
      }
    },
    {
      "cell_type": "code",
      "source": [
        "number = 1\n",
        "for i in range (1,5):\n",
        "  for j in range (1,i+1):\n",
        "    print(number, end=\" \")\n",
        "    number = number +1\n",
        "  print()"
      ],
      "metadata": {
        "colab": {
          "base_uri": "https://localhost:8080/"
        },
        "id": "eVJhgoyM6__8",
        "outputId": "b95c8f8f-5ef1-4162-8f3a-4c31906bc558"
      },
      "execution_count": 20,
      "outputs": [
        {
          "output_type": "stream",
          "name": "stdout",
          "text": [
            "1 \n",
            "2 3 \n",
            "4 5 6 \n",
            "7 8 9 10 \n"
          ]
        }
      ]
    },
    {
      "cell_type": "code",
      "source": [
        "for i in range (0,11):\n",
        "  for j in range (0,i):\n",
        "    print(i, end=\" \")\n",
        "  print()"
      ],
      "metadata": {
        "colab": {
          "base_uri": "https://localhost:8080/"
        },
        "id": "D4IW4eIE5AK2",
        "outputId": "69aecc1c-df0b-490b-d002-48e9d2c74d8b"
      },
      "execution_count": 17,
      "outputs": [
        {
          "output_type": "stream",
          "name": "stdout",
          "text": [
            "\n",
            "1 \n",
            "2 2 \n",
            "3 3 3 \n",
            "4 4 4 4 \n",
            "5 5 5 5 5 \n",
            "6 6 6 6 6 6 \n",
            "7 7 7 7 7 7 7 \n",
            "8 8 8 8 8 8 8 8 \n",
            "9 9 9 9 9 9 9 9 9 \n",
            "10 10 10 10 10 10 10 10 10 10 \n"
          ]
        }
      ]
    },
    {
      "cell_type": "code",
      "source": [
        "for i in range (1,11):\n",
        "  for j in range (1,i):\n",
        "    print(j, end=\" \")\n",
        "  print()"
      ],
      "metadata": {
        "colab": {
          "base_uri": "https://localhost:8080/"
        },
        "id": "9-bQVN0v5Vd2",
        "outputId": "658ef47a-9e9f-4557-8ea8-5947d7b96b25"
      },
      "execution_count": 19,
      "outputs": [
        {
          "output_type": "stream",
          "name": "stdout",
          "text": [
            "\n",
            "1 \n",
            "1 2 \n",
            "1 2 3 \n",
            "1 2 3 4 \n",
            "1 2 3 4 5 \n",
            "1 2 3 4 5 6 \n",
            "1 2 3 4 5 6 7 \n",
            "1 2 3 4 5 6 7 8 \n",
            "1 2 3 4 5 6 7 8 9 \n"
          ]
        }
      ]
    },
    {
      "cell_type": "markdown",
      "source": [
        "Write a program to calculate the sum of the following series till the nth term\n",
        "1/1! + 2/2! + 3/3! + 4/4! +…….+ n/n!\n",
        "n will be provided by the user"
      ],
      "metadata": {
        "id": "FkJ_rGcP7Pl4"
      }
    },
    {
      "cell_type": "code",
      "source": [
        "n = int(input(\"Enter a number: \"))\n",
        "sum = 0\n",
        "\n",
        "for i in range(1, n + 1):\n",
        "    fact = 1\n",
        "    for j in range(1, i + 1):\n",
        "        fact = fact * j\n",
        "    sum = sum + i / fact\n",
        "\n",
        "print(\"Sum of the series:\", sum)"
      ],
      "metadata": {
        "colab": {
          "base_uri": "https://localhost:8080/"
        },
        "id": "2ybs42TL6J-q",
        "outputId": "553ac27a-e53c-4a09-c669-d300c478085f"
      },
      "execution_count": 22,
      "outputs": [
        {
          "output_type": "stream",
          "name": "stdout",
          "text": [
            "Enter a number: 3\n",
            "Sum of the series: 2.5\n"
          ]
        }
      ]
    },
    {
      "cell_type": "markdown",
      "source": [
        "Write a Python Program to Find the Sum of the Series till the nth term:\n",
        "1 + x^2/2 + x^3/3 + … x^n/n\n",
        "n will be provided by the user"
      ],
      "metadata": {
        "id": "vjolyFzh8n9B"
      }
    },
    {
      "cell_type": "code",
      "source": [
        "n = int(input(\"Enter a number: \"))\n",
        "x = int(input(\"Enter a value of x: \"))\n",
        "sum = 0\n",
        "for i in range(1,n+1):\n",
        "  sum = sum + ((x**i)/i)\n",
        "print(\"The sum of the series: \",sum)"
      ],
      "metadata": {
        "colab": {
          "base_uri": "https://localhost:8080/"
        },
        "id": "ZYAag7cB8JPI",
        "outputId": "bd923857-8c4a-4b0b-d1a3-6aba2f0b63d9"
      },
      "execution_count": 24,
      "outputs": [
        {
          "output_type": "stream",
          "name": "stdout",
          "text": [
            "Enter a number: 4\n",
            "Enter a value of x: 3\n",
            "The sum of the series:  36.75\n"
          ]
        }
      ]
    },
    {
      "cell_type": "markdown",
      "source": [
        "The natural logarithm can be approximated by the following series.\n",
        "\n",
        "If x is input through the keyboard, write a program to calculate the sum of the first seven terms of this series.\n"
      ],
      "metadata": {
        "id": "KI4j7z6J9kLp"
      }
    },
    {
      "cell_type": "code",
      "source": [
        "x = float(input(\"Enter the value of x: \"))\n",
        "sum = 0\n",
        "\n",
        "for i in range(1, 8):\n",
        "    term = ((x - 1) ** i) / i\n",
        "    if i % 2 == 0:\n",
        "        term *= -1\n",
        "    sum += term\n",
        "\n",
        "print(f\"The natural logarithm of {x} is approximately {sum}\")\n"
      ],
      "metadata": {
        "colab": {
          "base_uri": "https://localhost:8080/"
        },
        "id": "ipOfPENm9JL8",
        "outputId": "6441e918-af9b-43f3-c602-df6b48543a57"
      },
      "execution_count": 30,
      "outputs": [
        {
          "output_type": "stream",
          "name": "stdout",
          "text": [
            "Enter the value of x: 4\n",
            "The natural logarithm of 4.0 is approximately 226.77857142857144\n"
          ]
        }
      ]
    },
    {
      "cell_type": "markdown",
      "source": [
        "Write a program that keeps on accepting a number from the user until the user enters Zero. Display the sum and average of all the numbers"
      ],
      "metadata": {
        "id": "enB4lZgN-4I0"
      }
    },
    {
      "cell_type": "code",
      "source": [
        "sum = 0\n",
        "avg = 0\n",
        "count = 0\n",
        "while True:\n",
        "  n = int(input(\"Enter a number: \"))\n",
        "  if n == 0:\n",
        "    break\n",
        "  else:\n",
        "    sum = sum + n\n",
        "    count = count+1\n",
        "\n",
        "avg = sum/count\n",
        "print(f\"The sum of numbers is {sum} and average is {avg} \")"
      ],
      "metadata": {
        "colab": {
          "base_uri": "https://localhost:8080/"
        },
        "id": "pEc3OgWn97Z_",
        "outputId": "f045ad97-0793-47a5-a6e6-ee1de34c12ac"
      },
      "execution_count": 33,
      "outputs": [
        {
          "output_type": "stream",
          "name": "stdout",
          "text": [
            "Enter a number: 1\n",
            "Enter a number: 2\n",
            "Enter a number: 3\n",
            "Enter a number: 4\n",
            "Enter a number: 0\n",
            "The sum of numbers is 10 and average is 2.5 \n"
          ]
        }
      ]
    },
    {
      "cell_type": "markdown",
      "source": [
        "Write a program that accepts 2 numbers from the user a numerator and a denominator and then simplifies it\n",
        "Eg if the num = 5, den = 15 the answer should be ⅓\n",
        "Eg if the num = 6, den = 9 the answer should be ⅔\n"
      ],
      "metadata": {
        "id": "_rQbQoMxACGx"
      }
    },
    {
      "cell_type": "code",
      "source": [
        "def gcd(a, b):\n",
        "    while b != 0:\n",
        "        a, b = b, a % b\n",
        "    return a\n",
        "\n",
        "def simplify_fraction(num, den):\n",
        "    common_divisor = gcd(num, den)\n",
        "\n",
        "    simplified_num = num // common_divisor\n",
        "    simplified_den = den // common_divisor\n",
        "\n",
        "    return simplified_num, simplified_den\n",
        "\n",
        "# Accept numerator and denominator from the user\n",
        "num, den  = map(int, (input(\"Enter the numerator: \")).split())\n",
        "\n",
        "simplified_num, simplified_den = simplify_fraction(num, den)\n",
        "\n",
        "print(f\"The simplified fraction is {simplified_num}/{simplified_den}\")"
      ],
      "metadata": {
        "colab": {
          "base_uri": "https://localhost:8080/"
        },
        "id": "E_DS6rnvitCK",
        "outputId": "5f126b96-f094-4e8c-d7e1-ef7d77bc6f2e"
      },
      "execution_count": 2,
      "outputs": [
        {
          "output_type": "stream",
          "name": "stdout",
          "text": [
            "Enter the numerator: 5 15\n",
            "The simplified fraction is 1/3\n"
          ]
        }
      ]
    },
    {
      "cell_type": "markdown",
      "source": [
        "Find the length of a given string without using the len() function."
      ],
      "metadata": {
        "id": "RKSwjfYij_Pe"
      }
    },
    {
      "cell_type": "code",
      "source": [
        "s = input(\"Enter a string: \")\n",
        "count = 0\n",
        "for char in s:\n",
        "  count +=1\n",
        "\n",
        "print(f\"The length of {s} is {count}.\")"
      ],
      "metadata": {
        "colab": {
          "base_uri": "https://localhost:8080/"
        },
        "id": "nzVhBkfrj8SV",
        "outputId": "1f752eea-f6ec-42a6-ac19-deefcecbba7d"
      },
      "execution_count": 3,
      "outputs": [
        {
          "output_type": "stream",
          "name": "stdout",
          "text": [
            "Enter a string: Jainisha\n",
            "The length of Jainisha is 8.\n"
          ]
        }
      ]
    },
    {
      "cell_type": "markdown",
      "source": [
        "Extract username from a given email."
      ],
      "metadata": {
        "id": "4BgNyeZQkeqk"
      }
    },
    {
      "cell_type": "code",
      "source": [
        "email = input(\"Enter an email: \")\n",
        "x = email.split('@')\n",
        "print(f\"The username of user of the {email} is {x[0]}.\")"
      ],
      "metadata": {
        "colab": {
          "base_uri": "https://localhost:8080/"
        },
        "id": "ac0AmDCqkb9z",
        "outputId": "82b1d550-cda7-40cb-b1c9-6edcf8397d27"
      },
      "execution_count": 4,
      "outputs": [
        {
          "output_type": "stream",
          "name": "stdout",
          "text": [
            "Enter an email: jainishatchoksi@gmail.com\n",
            "The username of user of the jainishatchoksi@gmail.com is jainishatchoksi.\n"
          ]
        }
      ]
    },
    {
      "cell_type": "code",
      "source": [
        "email = input(\"Enter Email address: \")\n",
        "x = email.split('@')\n",
        "username = x[0]\n",
        "domain = x[1].split('.')[0]\n",
        "\n",
        "print(\"Username:\", username)\n",
        "print(\"Domain:\", domain)"
      ],
      "metadata": {
        "colab": {
          "base_uri": "https://localhost:8080/"
        },
        "id": "eoCea0Fxk0bD",
        "outputId": "4dce2256-9c18-4393-b924-da50d6d89109"
      },
      "execution_count": 9,
      "outputs": [
        {
          "output_type": "stream",
          "name": "stdout",
          "text": [
            "Enter Email address: jainishatchoksi@gmail.com\n",
            "Username: jainishatchoksi\n",
            "Domain: gmail\n"
          ]
        }
      ]
    },
    {
      "cell_type": "markdown",
      "source": [
        "Count the frequency of a particular character in a provided string."
      ],
      "metadata": {
        "id": "JU2XlIwFl7ks"
      }
    },
    {
      "cell_type": "code",
      "source": [
        "s = input(\"Enter a string: \")\n",
        "c = input(\"Enter a character: \")\n",
        "\n",
        "count = 0\n",
        "for i in s:\n",
        "  if i == c:\n",
        "    count +=1\n",
        "\n",
        "print(f\"The frequency of {c} in this {s} is {count}\")"
      ],
      "metadata": {
        "colab": {
          "base_uri": "https://localhost:8080/"
        },
        "id": "fudRk4tLlG94",
        "outputId": "e23fa5ad-7c6b-4f0d-a6a7-b008cf247f5b"
      },
      "execution_count": 10,
      "outputs": [
        {
          "output_type": "stream",
          "name": "stdout",
          "text": [
            "Enter a string: Jainisha \n",
            "Enter a character: a\n",
            "The frequency of a in this Jainisha  is 2\n"
          ]
        }
      ]
    },
    {
      "cell_type": "code",
      "source": [
        "def count_all_characters(string):\n",
        "    frequency = {}\n",
        "    for char in string:\n",
        "        # Increment the count for the current character or initialize it to 0 if not present\n",
        "        frequency[char] = frequency.get(char, 0) + 1\n",
        "    return frequency\n",
        "\n",
        "# Example usage\n",
        "input_string = input(\"Enter a string: \")\n",
        "char_frequency = count_all_characters(input_string)\n",
        "print(\"Character frequency:\")\n",
        "for char, count in char_frequency.items():\n",
        "    print(f\"'{char}': {count}\")"
      ],
      "metadata": {
        "colab": {
          "base_uri": "https://localhost:8080/"
        },
        "id": "q6iuQWPom9TA",
        "outputId": "1a824e52-8a3d-46a0-ff82-4d2dcd8537e3"
      },
      "execution_count": 11,
      "outputs": [
        {
          "output_type": "stream",
          "name": "stdout",
          "text": [
            "Enter a string: Jainisha\n",
            "Character frequency:\n",
            "'J': 1\n",
            "'a': 2\n",
            "'i': 2\n",
            "'n': 1\n",
            "'s': 1\n",
            "'h': 1\n"
          ]
        }
      ]
    },
    {
      "cell_type": "markdown",
      "source": [
        "Find the index position of a particula character in another string."
      ],
      "metadata": {
        "id": "ZAogvJhDo86i"
      }
    },
    {
      "cell_type": "code",
      "source": [
        "s = input(\"Enter a string: \")\n",
        "c = input(\"Enter a character: \")\n",
        "\n",
        "def find_character_index(string, char):\n",
        "    for i, j in enumerate(string):\n",
        "        if j == char:\n",
        "            return i\n",
        "    return -1\n",
        "\n",
        "index = find_character_index(s, c)\n",
        "if index != -1:\n",
        "    print(f\"The character '{c}' is found at index position {index}.\")\n",
        "else:\n",
        "    print(f\"The character '{c}' is not found in the string.\")"
      ],
      "metadata": {
        "colab": {
          "base_uri": "https://localhost:8080/"
        },
        "id": "VJ-VIKQso2_t",
        "outputId": "8bfb74e1-d1c4-4797-fbed-d47a859b9f99"
      },
      "execution_count": 12,
      "outputs": [
        {
          "output_type": "stream",
          "name": "stdout",
          "text": [
            "Enter a string: Jainisha\n",
            "Enter a character: a\n",
            "The character 'a' is found at index position 1.\n"
          ]
        }
      ]
    },
    {
      "cell_type": "markdown",
      "source": [
        "Count the number of vowels in a string provided by the user."
      ],
      "metadata": {
        "id": "Usigj0iQp9Ua"
      }
    },
    {
      "cell_type": "code",
      "source": [
        "string = input(\"Enter a string: \")\n",
        "count = 0\n",
        "for c in string:\n",
        "  if ((c == 'a') or (c == 'e') or (c == 'i') or (c == 'o') or (c == 'u')):\n",
        "    count +=1\n",
        "\n",
        "print(f\"The number of vowels in {string} is {count}\")"
      ],
      "metadata": {
        "colab": {
          "base_uri": "https://localhost:8080/"
        },
        "id": "nMTDJJbwp2zl",
        "outputId": "625e3817-7869-4ffc-e05a-54a703dcf733"
      },
      "execution_count": 13,
      "outputs": [
        {
          "output_type": "stream",
          "name": "stdout",
          "text": [
            "Enter a string: Jainisha \n",
            "The number of vowels in Jainisha  is 4\n"
          ]
        }
      ]
    },
    {
      "cell_type": "markdown",
      "source": [
        "Write a program which can remove a particular character from a string."
      ],
      "metadata": {
        "id": "vLUVzNF3qw2K"
      }
    },
    {
      "cell_type": "code",
      "source": [
        "original_string = input(\"Enter a string: \")\n",
        "char = input(\"Enter a character to remove: \")\n",
        "\n",
        "result = original_string.replace(char,\"\")\n",
        "print(f\"The {original_string} after removing a {char} is {result}.\")"
      ],
      "metadata": {
        "colab": {
          "base_uri": "https://localhost:8080/"
        },
        "id": "jR4KomtQqtsl",
        "outputId": "213d7162-9b06-4952-a616-5dce98726261"
      },
      "execution_count": 14,
      "outputs": [
        {
          "output_type": "stream",
          "name": "stdout",
          "text": [
            "Enter a string: Jainisha\n",
            "Enter a character to remove: a\n",
            "The Jainisha after removing a a is Jinish.\n"
          ]
        }
      ]
    },
    {
      "cell_type": "markdown",
      "source": [
        "Write a program that can check whether a given string is palindrome or not."
      ],
      "metadata": {
        "id": "a_INlcmcrsFi"
      }
    },
    {
      "cell_type": "code",
      "source": [
        "string = input(\"Enter a string: \")\n",
        "string = string.lower()\n",
        "rev = string[::-1]\n",
        "\n",
        "if string == rev:\n",
        "  print(f\"The {string} is Palindrome.\")\n",
        "else:\n",
        "  print(f\"The {string} is Not Palindrome.\")"
      ],
      "metadata": {
        "colab": {
          "base_uri": "https://localhost:8080/"
        },
        "id": "Bp9A_alXrnXR",
        "outputId": "fa87abd4-1606-4bfc-d31b-3b12e5b9e5e3"
      },
      "execution_count": 17,
      "outputs": [
        {
          "output_type": "stream",
          "name": "stdout",
          "text": [
            "Enter a string: Jainisha\n",
            "The jainisha is Not Palindrome.\n"
          ]
        }
      ]
    },
    {
      "cell_type": "code",
      "source": [
        "string = input(\"Enter a string: \")\n",
        "string = string.lower()\n",
        "rev = string[::-1]\n",
        "\n",
        "if string == rev:\n",
        "  print(f\"The {string} is Palindrome.\")\n",
        "else:\n",
        "  print(f\"The {string} is Not Palindrome.\")"
      ],
      "metadata": {
        "colab": {
          "base_uri": "https://localhost:8080/"
        },
        "id": "sID09cy4sLwJ",
        "outputId": "316d787b-5486-4e5b-b34d-2eefed9e1f29"
      },
      "execution_count": 19,
      "outputs": [
        {
          "output_type": "stream",
          "name": "stdout",
          "text": [
            "Enter a string: Madam\n",
            "The madam is Palindrome.\n"
          ]
        }
      ]
    },
    {
      "cell_type": "markdown",
      "source": [
        "Write a program to remove all the duplicates from a list."
      ],
      "metadata": {
        "id": "w8MPrltZseSL"
      }
    },
    {
      "cell_type": "code",
      "source": [
        "li = input(\"Enter a list: \").split()\n",
        "x = list(set(li))\n",
        "\n",
        "print(\"List after removing duplicates: \",x)"
      ],
      "metadata": {
        "colab": {
          "base_uri": "https://localhost:8080/"
        },
        "id": "z_YoggThsPhm",
        "outputId": "eb110122-57e9-498f-e0ea-04feb53a9387"
      },
      "execution_count": 21,
      "outputs": [
        {
          "output_type": "stream",
          "name": "stdout",
          "text": [
            "Enter a list: j a i n i s h a\n",
            "List after removing duplicates:  ['a', 'h', 'n', 's', 'i', 'j']\n"
          ]
        }
      ]
    },
    {
      "cell_type": "markdown",
      "source": [
        "Write a program to convert a string to title case without using the title()"
      ],
      "metadata": {
        "id": "amvsSY_PtKar"
      }
    },
    {
      "cell_type": "code",
      "source": [
        "string = input(\"Enter a string: \")\n",
        "s = string.title()\n",
        "print(\"The Title case string:\", s)"
      ],
      "metadata": {
        "colab": {
          "base_uri": "https://localhost:8080/"
        },
        "id": "4PJ8GB6Qs8rb",
        "outputId": "73a27263-65a6-4802-f8d5-afa256846c74"
      },
      "execution_count": 22,
      "outputs": [
        {
          "output_type": "stream",
          "name": "stdout",
          "text": [
            "Enter a string: jainisha\n",
            "The Title case string: Jainisha\n"
          ]
        }
      ]
    },
    {
      "cell_type": "code",
      "source": [
        "string = input(\"Enter a string: \")\n",
        "s = string[0].upper() + string[1:].lower()\n",
        "print(\"The title case string: \", s)"
      ],
      "metadata": {
        "colab": {
          "base_uri": "https://localhost:8080/"
        },
        "id": "fOSdIryotZA5",
        "outputId": "10db6c2a-1105-466e-9fe8-0b7a03eb3c3c"
      },
      "execution_count": 27,
      "outputs": [
        {
          "output_type": "stream",
          "name": "stdout",
          "text": [
            "Enter a string: jainisha\n",
            "The title case string:  Jainisha\n"
          ]
        }
      ]
    },
    {
      "cell_type": "markdown",
      "source": [
        "Write a program to find the max item from a list without using max function"
      ],
      "metadata": {
        "id": "xzvNt4dpuEts"
      }
    },
    {
      "cell_type": "code",
      "source": [
        "li = input(\"Enter a list: \").split()\n",
        "lis = max(li)\n",
        "print(\"Maximun item: \",lis)"
      ],
      "metadata": {
        "colab": {
          "base_uri": "https://localhost:8080/"
        },
        "id": "WUhM_OgwtkL9",
        "outputId": "8774fd25-39ce-4c70-bfe5-3ba9df5c8028"
      },
      "execution_count": 29,
      "outputs": [
        {
          "output_type": "stream",
          "name": "stdout",
          "text": [
            "Enter a list: 1 2 3 4\n",
            "Maximun item:  4\n"
          ]
        }
      ]
    },
    {
      "cell_type": "code",
      "source": [
        "li = input(\"Enter a list:\").split()\n",
        "max = li[0]\n",
        "\n",
        "for i in li[1:]:\n",
        "  if i > max:\n",
        "    max = i\n",
        "\n",
        "print(\"Maximun item: \",max)"
      ],
      "metadata": {
        "colab": {
          "base_uri": "https://localhost:8080/"
        },
        "id": "UEKCrCdJubtv",
        "outputId": "f9a185a4-78d7-4087-befb-6883714ec8d5"
      },
      "execution_count": 32,
      "outputs": [
        {
          "output_type": "stream",
          "name": "stdout",
          "text": [
            "Enter a list:1 2 3 4\n",
            "Maximun item:  4\n"
          ]
        }
      ]
    },
    {
      "cell_type": "markdown",
      "source": [
        "Write a program to reverse a list"
      ],
      "metadata": {
        "id": "aaG70O7tvapa"
      }
    },
    {
      "cell_type": "code",
      "source": [
        "li = input(\"Enter a list: \").split()\n",
        "lis = li[::-1]\n",
        "print(\"The reverse of list:\",list(lis))"
      ],
      "metadata": {
        "colab": {
          "base_uri": "https://localhost:8080/"
        },
        "id": "HOtQ4DUwvHaI",
        "outputId": "ea9370df-e812-4f3b-f9d4-98739a1594e5"
      },
      "execution_count": 36,
      "outputs": [
        {
          "output_type": "stream",
          "name": "stdout",
          "text": [
            "Enter a list: 1 2 3 4\n",
            "The reverse of list: ['4', '3', '2', '1']\n"
          ]
        }
      ]
    },
    {
      "cell_type": "markdown",
      "source": [
        "Write a program to search a given number from a list"
      ],
      "metadata": {
        "id": "TslSReBcv7UG"
      }
    },
    {
      "cell_type": "code",
      "source": [
        "li = input(\"Enter a list: \").split()\n",
        "num = input(\"Enter a number to search: \")\n",
        "\n",
        "for index, value in enumerate(li):\n",
        "    if value == num:\n",
        "        print(\"The number is at index:\", index)"
      ],
      "metadata": {
        "colab": {
          "base_uri": "https://localhost:8080/"
        },
        "id": "a0dhf47JvlJu",
        "outputId": "4f2bd826-ab1b-46dd-d026-6a0a88af080f"
      },
      "execution_count": 40,
      "outputs": [
        {
          "output_type": "stream",
          "name": "stdout",
          "text": [
            "Enter a list: 1 2 3 4\n",
            "Enter a number to search: 3\n",
            "The number is at index: 2\n"
          ]
        }
      ]
    },
    {
      "cell_type": "markdown",
      "source": [
        "Write a program that can create a new list from a given list where each item in the new list is square of the item of the oldest one"
      ],
      "metadata": {
        "id": "ot6NEWn0w15C"
      }
    },
    {
      "cell_type": "code",
      "source": [
        "li = list(map(int, input(\"Enter a list: \").split()))\n",
        "squ = [x**2 for x in li]\n",
        "print(\"The squared list is: \",squ)"
      ],
      "metadata": {
        "colab": {
          "base_uri": "https://localhost:8080/"
        },
        "id": "pA6axLHcwQnb",
        "outputId": "ea2c7fd0-fa52-44aa-b982-5eefebac37e4"
      },
      "execution_count": 42,
      "outputs": [
        {
          "output_type": "stream",
          "name": "stdout",
          "text": [
            "Enter a list: 1 2 3 4\n",
            "The squared list is:  [1, 4, 9, 16]\n"
          ]
        }
      ]
    },
    {
      "cell_type": "markdown",
      "source": [
        "Write a program that can reverse words of a given string"
      ],
      "metadata": {
        "id": "hlbdLcr4xjWg"
      }
    },
    {
      "cell_type": "code",
      "source": [
        "string = input(\"Enter a string: \")\n",
        "words = string.split()\n",
        "rev = words[::-1]\n",
        "print(\"The Reverse string is: \",rev)"
      ],
      "metadata": {
        "colab": {
          "base_uri": "https://localhost:8080/"
        },
        "id": "GFCqdX9MxZaD",
        "outputId": "bc944a54-1f51-4845-9cde-5c38c2c2862f"
      },
      "execution_count": 43,
      "outputs": [
        {
          "output_type": "stream",
          "name": "stdout",
          "text": [
            "Enter a string: hello world how are you\n",
            "The Reverse string is:  ['you', 'are', 'how', 'world', 'hello']\n"
          ]
        }
      ]
    },
    {
      "cell_type": "markdown",
      "source": [
        "Write a program that can count the number of words in a given string"
      ],
      "metadata": {
        "id": "4kEv9BI4x-xv"
      }
    },
    {
      "cell_type": "code",
      "source": [
        "string = input(\"Enter a string: \")\n",
        "words = string.split()\n",
        "word_len = len(words)\n",
        "\n",
        "print(\"The length of string is: \",word_len)"
      ],
      "metadata": {
        "colab": {
          "base_uri": "https://localhost:8080/"
        },
        "id": "HUgWg0PJx6Xj",
        "outputId": "4f147773-abc8-4bae-a146-4c7fca8cac04"
      },
      "execution_count": 44,
      "outputs": [
        {
          "output_type": "stream",
          "name": "stdout",
          "text": [
            "Enter a string: hello world how are you\n",
            "The length of string is:  5\n"
          ]
        }
      ]
    },
    {
      "cell_type": "markdown",
      "source": [
        "Write a program to check if a list is in ascending order or not"
      ],
      "metadata": {
        "id": "d1CIZ8WLyYNv"
      }
    },
    {
      "cell_type": "code",
      "source": [
        "li = list(map(int, input(\"Enter a list: \").split()))\n",
        "is_ascending = True\n",
        "\n",
        "for i in range(1, len(li)):\n",
        "    if li[i] < li[i - 1]:\n",
        "        is_ascending = False\n",
        "        break\n",
        "\n",
        "if is_ascending:\n",
        "    print(\"List is in ascending order.\")\n",
        "else:\n",
        "    print(\"List is not in ascending order.\")"
      ],
      "metadata": {
        "colab": {
          "base_uri": "https://localhost:8080/"
        },
        "id": "TlJLpKdUyUUp",
        "outputId": "283dd106-6a47-4592-9fa1-face827bcdbd"
      },
      "execution_count": 50,
      "outputs": [
        {
          "output_type": "stream",
          "name": "stdout",
          "text": [
            "Enter a list: 1 2 3 4\n",
            "List is in ascending order.\n"
          ]
        }
      ]
    },
    {
      "cell_type": "markdown",
      "source": [
        "Create 2 lists from a given list where 1st list will contain all the odd number from the original list and 2nd one will contain all the even numbers."
      ],
      "metadata": {
        "id": "0zkufszhzssb"
      }
    },
    {
      "cell_type": "code",
      "source": [
        "li = list(map(int, input(\"Enter a list: \").split()))\n",
        "\n",
        "lio = []\n",
        "lie = []\n",
        "\n",
        "for i in range (len(li)):\n",
        "  if li[i]%2 == 0:\n",
        "    lie.append(li[i])\n",
        "  else:\n",
        "    lio.append(li[i])\n",
        "\n",
        "print(\"Odd List: \",lio)\n",
        "print(\"Even List: \",lie)"
      ],
      "metadata": {
        "colab": {
          "base_uri": "https://localhost:8080/"
        },
        "id": "CWT7HBFCz21N",
        "outputId": "dc086edc-a383-4d11-a0bb-cdef2d8b9a7b"
      },
      "execution_count": 52,
      "outputs": [
        {
          "output_type": "stream",
          "name": "stdout",
          "text": [
            "Enter a list: 1 2 3 4\n",
            "Odd List:  [1, 3]\n",
            "Even List:  [2, 4]\n"
          ]
        }
      ]
    },
    {
      "cell_type": "markdown",
      "source": [
        "Write a program to merge 2 list without using the + operator"
      ],
      "metadata": {
        "id": "QyL_ifLg1uxj"
      }
    },
    {
      "cell_type": "code",
      "source": [
        "li1 = list(map(int, input(\"Enter list 1: \").split()))\n",
        "li2 = list(map(int, input(\"Enter list 2: \").split()))\n",
        "\n",
        "li = li1 + li2\n",
        "print(\"Final List: \",li)"
      ],
      "metadata": {
        "colab": {
          "base_uri": "https://localhost:8080/"
        },
        "id": "x2Uv6Btz1gGS",
        "outputId": "965dcc39-b6a8-480e-95f8-1d453d6032ba"
      },
      "execution_count": 53,
      "outputs": [
        {
          "output_type": "stream",
          "name": "stdout",
          "text": [
            "Enter list 1: 1 2 \n",
            "Enter list 1: 3 4\n",
            "Final List:  [1, 2, 3, 4]\n"
          ]
        }
      ]
    },
    {
      "cell_type": "code",
      "source": [
        "li1 = list(map(int, input(\"Enter list 1: \").split()))\n",
        "li2 = list(map(int, input(\"Enter list 2: \").split()))\n",
        "\n",
        "li1.extend(li2)\n",
        "\n",
        "print(\"Final List: \",li1)"
      ],
      "metadata": {
        "colab": {
          "base_uri": "https://localhost:8080/"
        },
        "id": "DmneCu6F2FET",
        "outputId": "4a0dec21-bb60-4f2f-ade3-bbfae70a5218"
      },
      "execution_count": 56,
      "outputs": [
        {
          "output_type": "stream",
          "name": "stdout",
          "text": [
            "Enter list 1: 1 2 \n",
            "Enter list 2: 3 4\n",
            "Final List:  [1, 2, 3, 4]\n"
          ]
        }
      ]
    },
    {
      "cell_type": "markdown",
      "source": [
        "Write a program to replace an item with a different item if found in the list"
      ],
      "metadata": {
        "id": "D3cH7_1c2fRF"
      }
    },
    {
      "cell_type": "code",
      "source": [
        "string = input(\"Enter a string: \")\n",
        "c = input(\"Enter a character to replace: \")\n",
        "x = input(\"Enter a character to be replaced: \")\n",
        "\n",
        "string = string.replace(c, x)\n",
        "\n",
        "print(\"The new string is: \", string)"
      ],
      "metadata": {
        "colab": {
          "base_uri": "https://localhost:8080/"
        },
        "id": "pOwtjvfB2TBV",
        "outputId": "638926a2-38c2-404a-e696-e2521e5d536e"
      },
      "execution_count": 58,
      "outputs": [
        {
          "output_type": "stream",
          "name": "stdout",
          "text": [
            "Enter a string: jainisha\n",
            "Enter a character to replace: a\n",
            "Enter a character to be replaced: e\n",
            "The new string is:  jeinishe\n"
          ]
        }
      ]
    },
    {
      "cell_type": "markdown",
      "source": [
        "Write a program that can convert a 2D list to 1D list."
      ],
      "metadata": {
        "id": "os6Go94S3Euh"
      }
    },
    {
      "cell_type": "code",
      "source": [
        "li2D = [[1,2,3],[4,5,6],[7,8,9]]\n",
        "\n",
        "li1D = []\n",
        "for sublist in li2D:\n",
        "  li1D.extend(sublist)\n",
        "\n",
        "print(\"1D list is: \",li1D)"
      ],
      "metadata": {
        "colab": {
          "base_uri": "https://localhost:8080/"
        },
        "id": "bH1prenP29FO",
        "outputId": "0865f9bc-607c-4c20-8e13-bab591345a08"
      },
      "execution_count": 59,
      "outputs": [
        {
          "output_type": "stream",
          "name": "stdout",
          "text": [
            "1D list is:  [1, 2, 3, 4, 5, 6, 7, 8, 9]\n"
          ]
        }
      ]
    },
    {
      "cell_type": "markdown",
      "source": [
        "Write a program that can perform union and intersection on 2 given list"
      ],
      "metadata": {
        "id": "vtKKe65I32Mc"
      }
    },
    {
      "cell_type": "code",
      "source": [
        "def union(list1, list2):\n",
        "    # Perform union using set union operator |\n",
        "    return list(set(list1) | set(list2))\n",
        "\n",
        "def intersection(list1, list2):\n",
        "    # Perform intersection using set intersection operator &\n",
        "    return list(set(list1) & set(list2))\n",
        "\n",
        "# Example usage\n",
        "list1 = list(map(int, input(\"Enter list 1: \").split()))\n",
        "list2 = list(map(int, input(\"Enter list 2: \").split()))\n",
        "\n",
        "union_result = union(list1, list2)\n",
        "intersection_result = intersection(list1, list2)\n",
        "\n",
        "print(\"Union:\", union_result)\n",
        "print(\"Intersection:\", intersection_result)"
      ],
      "metadata": {
        "colab": {
          "base_uri": "https://localhost:8080/"
        },
        "id": "O-_VU0U430Zm",
        "outputId": "7f292fbd-e547-4b7c-8041-ca27da28bf10"
      },
      "execution_count": 60,
      "outputs": [
        {
          "output_type": "stream",
          "name": "stdout",
          "text": [
            "Enter list 1: 1 2 3 \n",
            "Enter list 2: 3 4 5\n",
            "Union: [1, 2, 3, 4, 5]\n",
            "Intersection: [3]\n"
          ]
        }
      ]
    },
    {
      "cell_type": "markdown",
      "source": [
        "The max item of each row of a matrix"
      ],
      "metadata": {
        "id": "LcKysqRP4Jgg"
      }
    },
    {
      "cell_type": "code",
      "source": [
        "def max_of_each_row(matrix):\n",
        "    max_items = []\n",
        "    for row in matrix:\n",
        "        max_item = float('-inf')\n",
        "        for item in row:\n",
        "            if item > max_item:\n",
        "                max_item = item\n",
        "        max_items.append(max_item)\n",
        "    return max_items\n",
        "\n",
        "# Example usage\n",
        "matrix = [[1, 2, 3], [4, 5, 6], [7, 8, 9]]\n",
        "result = max_of_each_row(matrix)\n",
        "print(\"Max item of each row:\", result)"
      ],
      "metadata": {
        "colab": {
          "base_uri": "https://localhost:8080/"
        },
        "id": "PEISewg24GYv",
        "outputId": "d1f4b89b-8a5c-427e-b5ac-09d74009696e"
      },
      "execution_count": 64,
      "outputs": [
        {
          "output_type": "stream",
          "name": "stdout",
          "text": [
            "Max item of each row: [3, 6, 9]\n"
          ]
        }
      ]
    },
    {
      "cell_type": "markdown",
      "source": [
        "Write a program to print the shape of a matrix"
      ],
      "metadata": {
        "id": "zO7OoF-M40gS"
      }
    },
    {
      "cell_type": "code",
      "source": [
        "def matrix_shape(matrix):\n",
        "    num_rows = len(matrix)\n",
        "    num_columns = len(matrix[0]) if matrix else 0  # Assuming all rows have the same number of elements\n",
        "    return (num_rows, num_columns)\n",
        "\n",
        "# Example usage\n",
        "matrix = [[1, 2, 3], [4, 5, 6]]\n",
        "shape = matrix_shape(matrix)\n",
        "print(\"Shape of the matrix:\", shape)"
      ],
      "metadata": {
        "colab": {
          "base_uri": "https://localhost:8080/"
        },
        "id": "rPqHMuAn4UXM",
        "outputId": "c00a96f9-69b9-43c7-b859-6c9e0ff737b6"
      },
      "execution_count": 66,
      "outputs": [
        {
          "output_type": "stream",
          "name": "stdout",
          "text": [
            "Shape of the matrix: (2, 3)\n"
          ]
        }
      ]
    },
    {
      "cell_type": "markdown",
      "source": [
        "Write a program that can convert an integer to string"
      ],
      "metadata": {
        "id": "VmhbxUAr5mZq"
      }
    },
    {
      "cell_type": "code",
      "source": [
        "integer = int(input(\"Enter an integer: \"))\n",
        "string = str(integer)\n",
        "print(\"Integer to String: \",string)"
      ],
      "metadata": {
        "colab": {
          "base_uri": "https://localhost:8080/"
        },
        "id": "Buo0iW4r5C2T",
        "outputId": "6525c1e1-327b-4346-9592-40c5f9322493"
      },
      "execution_count": 69,
      "outputs": [
        {
          "output_type": "stream",
          "name": "stdout",
          "text": [
            "Enter an integer: 24\n",
            "Integer to String:  24\n"
          ]
        }
      ]
    },
    {
      "cell_type": "markdown",
      "source": [
        "Write a program that can check if you can perform matrix multiplication on 2 ,matrices"
      ],
      "metadata": {
        "id": "y_Co6nDR6F0Q"
      }
    },
    {
      "cell_type": "code",
      "source": [
        "def can_multiply(matrix1, matrix2):\n",
        "    return len(matrix1[0]) == len(matrix2)\n",
        "\n",
        "def matrix_multiply(matrix1, matrix2):\n",
        "    result = []\n",
        "    for i in range(len(matrix1)):\n",
        "        row = []\n",
        "        for j in range(len(matrix2[0])):\n",
        "            sum = 0\n",
        "            for k in range(len(matrix2)):\n",
        "                sum += matrix1[i][k] * matrix2[k][j]\n",
        "            row.append(sum)\n",
        "        result.append(row)\n",
        "    return result\n",
        "\n",
        "# Example usage\n",
        "def main():\n",
        "    # Take input for the first matrix\n",
        "    rows1 = int(input(\"Enter the number of rows for the first matrix: \"))\n",
        "    cols1 = int(input(\"Enter the number of columns for the first matrix: \"))\n",
        "    matrix1 = []\n",
        "    print(\"Enter elements for the first matrix:\")\n",
        "    for i in range(rows1):\n",
        "        row = list(map(int, input().split()))\n",
        "        matrix1.append(row)\n",
        "\n",
        "    # Take input for the second matrix\n",
        "    rows2 = int(input(\"Enter the number of rows for the second matrix: \"))\n",
        "    cols2 = int(input(\"Enter the number of columns for the second matrix: \"))\n",
        "    matrix2 = []\n",
        "    print(\"Enter elements for the second matrix:\")\n",
        "    for i in range(rows2):\n",
        "        row = list(map(int, input().split()))\n",
        "        matrix2.append(row)\n",
        "\n",
        "    # Check if matrix multiplication is possible\n",
        "    if can_multiply(matrix1, matrix2):\n",
        "        # Perform matrix multiplication\n",
        "        result_matrix = matrix_multiply(matrix1, matrix2)\n",
        "        print(\"Result of matrix multiplication:\")\n",
        "        for row in result_matrix:\n",
        "            print(row)\n",
        "    else:\n",
        "        print(\"Matrix multiplication is not possible.\")\n",
        "\n",
        "if __name__ == \"__main__\":\n",
        "    main()"
      ],
      "metadata": {
        "colab": {
          "base_uri": "https://localhost:8080/"
        },
        "id": "IiiqMFjj5_cj",
        "outputId": "43ba3097-b72e-4cc8-b213-ccd1b11c4b15"
      },
      "execution_count": 73,
      "outputs": [
        {
          "output_type": "stream",
          "name": "stdout",
          "text": [
            "Enter the number of rows for the first matrix: 3 \n",
            "Enter the number of columns for the first matrix: 4\n",
            "Enter elements for the first matrix:\n",
            "1 2 3 4 \n",
            "5 6 7 8\n",
            "9 0 1 2\n",
            "Enter the number of rows for the second matrix: 4\n",
            "Enter the number of columns for the second matrix: 2\n",
            "Enter elements for the second matrix:\n",
            "1 2 \n",
            "3 4\n",
            "5 6\n",
            "7 8\n",
            "Result of matrix multiplication:\n",
            "[50, 60]\n",
            "[114, 140]\n",
            "[28, 40]\n"
          ]
        }
      ]
    },
    {
      "cell_type": "markdown",
      "source": [
        "Write a program that can sort a given unsorted list.Don't use any built in function for sorting"
      ],
      "metadata": {
        "id": "Ds_hN2_Q7a9p"
      }
    },
    {
      "cell_type": "code",
      "source": [
        "# Take input as a list of integers\n",
        "unsorted_list = list(map(int, input(\"Enter a list of integers separated by space: \").split()))\n",
        "\n",
        "# Sort the list\n",
        "sorted_list = sorted(unsorted_list)\n",
        "\n",
        "# Print the sorted list\n",
        "print(\"Sorted list:\", sorted_list)"
      ],
      "metadata": {
        "colab": {
          "base_uri": "https://localhost:8080/"
        },
        "id": "rYFmDTbz6t0-",
        "outputId": "6095d682-409e-43b0-f1b9-139893cc028d"
      },
      "execution_count": 74,
      "outputs": [
        {
          "output_type": "stream",
          "name": "stdout",
          "text": [
            "Enter a list of integers separated by space: 2 44 5765 123 2 3 \n",
            "Sorted list: [2, 2, 3, 44, 123, 5765]\n"
          ]
        }
      ]
    },
    {
      "cell_type": "code",
      "source": [
        "def bubble_sort(arr):\n",
        "    n = len(arr)\n",
        "    for i in range(n - 1):\n",
        "        for j in range(0, n - i - 1):\n",
        "            if arr[j] > arr[j + 1]:\n",
        "                arr[j], arr[j + 1] = arr[j + 1], arr[j]\n",
        "\n",
        "# Take input as a list of integers\n",
        "unsorted_list = list(map(int, input(\"Enter a list of integers separated by space: \").split()))\n",
        "\n",
        "# Sort the list using bubble sort\n",
        "bubble_sort(unsorted_list)\n",
        "\n",
        "# Print the sorted list\n",
        "print(\"Sorted list:\", unsorted_list)"
      ],
      "metadata": {
        "colab": {
          "base_uri": "https://localhost:8080/"
        },
        "id": "8jbehq-R7xB2",
        "outputId": "c79c9cf6-23f5-4881-9f25-a521a5ed1fc3"
      },
      "execution_count": 75,
      "outputs": [
        {
          "output_type": "stream",
          "name": "stdout",
          "text": [
            "Enter a list of integers separated by space: 32 43 56 123 463 98 23 35 \n",
            "Sorted list: [23, 32, 35, 43, 56, 98, 123, 463]\n"
          ]
        }
      ]
    },
    {
      "cell_type": "markdown",
      "source": [
        "Write a program that can find the most used word in a bollywood song."
      ],
      "metadata": {
        "id": "MSmELuZZ75TA"
      }
    },
    {
      "cell_type": "code",
      "source": [
        "def most_used_word(song_lyrics):\n",
        "    # Split the song lyrics into words\n",
        "    words = song_lyrics.lower().split()\n",
        "\n",
        "    # Count the occurrences of each word using a dictionary\n",
        "    word_count = {}\n",
        "    for word in words:\n",
        "        if word in word_count:\n",
        "            word_count[word] += 1\n",
        "        else:\n",
        "            word_count[word] = 1\n",
        "\n",
        "    # Find the word with the maximum count\n",
        "    most_used_word = max(word_count, key=word_count.get)\n",
        "\n",
        "    return most_used_word\n",
        "\n",
        "# Example usage\n",
        "song_lyrics = input(\"Enter the lyrics of a Bollywood song: \")\n",
        "most_used = most_used_word(song_lyrics)\n",
        "print(\"Most used word in the song:\", most_used)"
      ],
      "metadata": {
        "colab": {
          "base_uri": "https://localhost:8080/"
        },
        "id": "Y8f6Yz9a71wl",
        "outputId": "c0435e2f-ae73-4e7f-84b0-717e344c4733"
      },
      "execution_count": 1,
      "outputs": [
        {
          "output_type": "stream",
          "name": "stdout",
          "text": [
            "Enter the lyrics of a Bollywood song: Dekha zaror defa aapko phir bekarari kaise hai dekha ....\n",
            "Most used word in the song: dekha\n"
          ]
        }
      ]
    },
    {
      "cell_type": "markdown",
      "source": [
        "Assume a list with numbers from 1 to 10 and then convert it into a doctionary where the key would be the numbers of the list and the values would be the square of those numbers"
      ],
      "metadata": {
        "id": "Ihpqu6aYvUA9"
      }
    },
    {
      "cell_type": "code",
      "source": [
        "number_list = list(range(1,11))\n",
        "\n",
        "dic = {num : num**2 for num in number_list}\n",
        "\n",
        "print(\"Dictionary: \",dic)"
      ],
      "metadata": {
        "colab": {
          "base_uri": "https://localhost:8080/"
        },
        "id": "NAbKVDtbvAqx",
        "outputId": "c8ff8cc5-d599-477b-a458-bd06d821a956"
      },
      "execution_count": 2,
      "outputs": [
        {
          "output_type": "stream",
          "name": "stdout",
          "text": [
            "Dictionary:  {1: 1, 2: 4, 3: 9, 4: 16, 5: 25, 6: 36, 7: 49, 8: 64, 9: 81, 10: 100}\n"
          ]
        }
      ]
    },
    {
      "cell_type": "markdown",
      "source": [
        "Write a program to merge 2 given dictionary"
      ],
      "metadata": {
        "id": "JRMRAc6LwGkO"
      }
    },
    {
      "cell_type": "code",
      "source": [
        "# Function to take input for a dictionary from the user\n",
        "def input_dictionary():\n",
        "    my_dict = {}\n",
        "    while True:\n",
        "        key = input(\"Enter a key (press Enter to stop): \")\n",
        "        if not key:\n",
        "            break\n",
        "        value = input(\"Enter a value: \")\n",
        "        my_dict[key] = value\n",
        "    return my_dict\n",
        "\n",
        "# Take input for the first dictionary\n",
        "print(\"Enter details for the first dictionary:\")\n",
        "dict1 = input_dictionary()\n",
        "\n",
        "# Take input for the second dictionary\n",
        "print(\"\\nEnter details for the second dictionary:\")\n",
        "dict2 = input_dictionary()\n",
        "\n",
        "# Merge the dictionaries\n",
        "merged_dict = {**dict1, **dict2}\n",
        "\n",
        "# Print the merged dictionary\n",
        "print(\"\\nMerged dictionary:\", merged_dict)"
      ],
      "metadata": {
        "colab": {
          "base_uri": "https://localhost:8080/"
        },
        "id": "cXDC-AP_xAMA",
        "outputId": "9855e4ef-d270-470d-9181-ad224d1284d6"
      },
      "execution_count": 5,
      "outputs": [
        {
          "output_type": "stream",
          "name": "stdout",
          "text": [
            "Enter details for the first dictionary:\n",
            "Enter a key (press Enter to stop): 1 2  3 4\n",
            "Enter a value: 4 5 6 7\n",
            "Enter a key (press Enter to stop): 1 2 4 5 \n",
            "Enter a value: 6 7 8 9\n",
            "Enter a key (press Enter to stop): \n",
            "\n",
            "Enter details for the second dictionary:\n",
            "Enter a key (press Enter to stop): 1 2 3 4\n",
            "Enter a value: 5 6 9 0 \n",
            "Enter a key (press Enter to stop): \n",
            "\n",
            "Merged dictionary: {'1 2  3 4': '4 5 6 7', '1 2 4 5 ': '6 7 8 9', '1 2 3 4': '5 6 9 0 '}\n"
          ]
        }
      ]
    },
    {
      "cell_type": "markdown",
      "source": [
        "Write a program to swap the key value pair for max and min values"
      ],
      "metadata": {
        "id": "Ng0F9FVBx3Dg"
      }
    },
    {
      "cell_type": "code",
      "source": [
        "def swap_max_min(dictionary):\n",
        "    if not dictionary:\n",
        "        return dictionary\n",
        "\n",
        "    # Find the key corresponding to the maximum value\n",
        "    max_key = max(dictionary, key=dictionary.get)\n",
        "    # Find the key corresponding to the minimum value\n",
        "    min_key = min(dictionary, key=dictionary.get)\n",
        "\n",
        "    # Swap the values of max and min keys\n",
        "    dictionary[max_key], dictionary[min_key] = dictionary[min_key], dictionary[max_key]\n",
        "\n",
        "    return dictionary\n",
        "\n",
        "# Example usage\n",
        "my_dict = {'a': 1, 'b': 2, 'c': 3}\n",
        "\n",
        "# Swap the key-value pair for max and min values\n",
        "swapped_dict = swap_max_min(my_dict)\n",
        "\n",
        "# Print the result\n",
        "# print(\"Original dictionary:\", my_dict)\n",
        "print(\"Dictionary after swapping max and min key-value pairs:\", swapped_dict)"
      ],
      "metadata": {
        "colab": {
          "base_uri": "https://localhost:8080/"
        },
        "id": "SLzGz-xMxPVK",
        "outputId": "233e1b5b-87ae-4d07-8490-7814af24bd81"
      },
      "execution_count": 11,
      "outputs": [
        {
          "output_type": "stream",
          "name": "stdout",
          "text": [
            "Dictionary after swapping max and min key-value pairs: {'a': 3, 'b': 2, 'c': 1}\n"
          ]
        }
      ]
    },
    {
      "cell_type": "markdown",
      "source": [
        "Write a program to find histogram of a given set of numbers. Take bin size from user. Print the result in the form of a dictionary.\n"
      ],
      "metadata": {
        "id": "AMG_d3-rzGIu"
      }
    },
    {
      "cell_type": "code",
      "source": [
        "def histogram(numbers, bin_size):\n",
        "    hist = {}\n",
        "    for num in numbers:\n",
        "        bin_number = num // bin_size\n",
        "        if bin_number in hist:\n",
        "            hist[bin_number] += 1\n",
        "        else:\n",
        "            hist[bin_number] = 1\n",
        "    return hist\n",
        "\n",
        "# Take input from the user\n",
        "numbers = list(map(float, input(\"Enter a list of numbers separated by space: \").split()))\n",
        "bin_size = float(input(\"Enter the bin size: \"))\n",
        "\n",
        "# Calculate the histogram\n",
        "histogram_dict = histogram(numbers, bin_size)\n",
        "\n",
        "# Print the histogram\n",
        "print(\"Histogram:\", histogram_dict)"
      ],
      "metadata": {
        "colab": {
          "base_uri": "https://localhost:8080/"
        },
        "id": "G5H5gz0JyMek",
        "outputId": "9f755413-d3a4-4bd6-81cf-43127eda5b9e"
      },
      "execution_count": 12,
      "outputs": [
        {
          "output_type": "stream",
          "name": "stdout",
          "text": [
            "Enter a list of numbers separated by space: 1 2 3 4 5 6 7 8 9 11 12 23 43 45\n",
            "Enter the bin size: 2\n",
            "Histogram: {0.0: 1, 1.0: 2, 2.0: 2, 3.0: 2, 4.0: 2, 5.0: 1, 6.0: 1, 11.0: 1, 21.0: 1, 22.0: 1}\n"
          ]
        }
      ]
    },
    {
      "cell_type": "markdown",
      "source": [
        "Write a function that accepts a string and returns the number of upper case chars and lower case chars as a dictionary\n"
      ],
      "metadata": {
        "id": "YoFZZVh2zi6r"
      }
    },
    {
      "cell_type": "code",
      "source": [
        "def count_upper_lower_chars(string):\n",
        "    upper_count = sum(1 for char in string if char.isupper())\n",
        "    lower_count = sum(1 for char in string if char.islower())\n",
        "    return {'upper': upper_count, 'lower': lower_count}\n",
        "\n",
        "# Example usage\n",
        "input_string = input(\"Enter a string: \")\n",
        "char_counts = count_upper_lower_chars(input_string)\n",
        "print(\"Counts of uppercase and lowercase characters:\", char_counts)"
      ],
      "metadata": {
        "colab": {
          "base_uri": "https://localhost:8080/"
        },
        "id": "ot5WqxAlzYLd",
        "outputId": "2dd5743c-5022-4cdf-c289-7672e735ff37"
      },
      "execution_count": 13,
      "outputs": [
        {
          "output_type": "stream",
          "name": "stdout",
          "text": [
            "Enter a string: Jainisha Choksi\n",
            "Counts of uppercase and lowercase characters: {'upper': 2, 'lower': 12}\n"
          ]
        }
      ]
    },
    {
      "cell_type": "markdown",
      "source": [
        "Write a function that accepts a list of strings and performs Bag of words and convert it to numerical vectors."
      ],
      "metadata": {
        "id": "KBKLF53qzwZm"
      }
    },
    {
      "cell_type": "code",
      "source": [
        "def bag_of_words(strings):\n",
        "    # Create a set of unique words\n",
        "    unique_words = set(word for string in strings for word in string.split())\n",
        "\n",
        "    # Initialize a dictionary to store the numerical vectors\n",
        "    numerical_vectors = []\n",
        "\n",
        "    # Iterate through each string\n",
        "    for string in strings:\n",
        "        # Initialize a vector for the current string\n",
        "        vector = []\n",
        "        # Count the occurrences of each word in the string\n",
        "        for word in unique_words:\n",
        "            count = string.split().count(word)\n",
        "            vector.append(count)\n",
        "        numerical_vectors.append(vector)\n",
        "\n",
        "    return numerical_vectors\n",
        "\n",
        "# Example usage\n",
        "strings = [\"hello world\", \"world is beautiful\", \"hello beautiful world\"]\n",
        "numerical_vectors = bag_of_words(strings)\n",
        "print(\"Numerical vectors (Bag of Words representation):\")\n",
        "for i, vector in enumerate(numerical_vectors, 1):\n",
        "    print(f\"String {i}: {vector}\")"
      ],
      "metadata": {
        "colab": {
          "base_uri": "https://localhost:8080/"
        },
        "id": "7X85tN1GzsXI",
        "outputId": "5719c53e-43d2-445c-c561-a770f6189826"
      },
      "execution_count": 14,
      "outputs": [
        {
          "output_type": "stream",
          "name": "stdout",
          "text": [
            "Numerical vectors (Bag of Words representation):\n",
            "String 1: [0, 1, 1, 0]\n",
            "String 2: [1, 1, 0, 1]\n",
            "String 3: [1, 1, 1, 0]\n"
          ]
        }
      ]
    },
    {
      "cell_type": "markdown",
      "source": [
        "Write a dummy program that can perform login and registration using a menu driven program\n"
      ],
      "metadata": {
        "id": "rmlN5-xa0RhT"
      }
    },
    {
      "cell_type": "code",
      "source": [
        "def register(users):\n",
        "    username = input(\"Enter a username: \")\n",
        "    if username in users:\n",
        "        print(\"Username already exists. Please choose a different one.\")\n",
        "        return\n",
        "    password = input(\"Enter a password: \")\n",
        "    users[username] = password\n",
        "    print(\"Registration successful!\")\n",
        "\n",
        "def login(users):\n",
        "    username = input(\"Enter your username: \")\n",
        "    password = input(\"Enter your password: \")\n",
        "    if username in users and users[username] == password:\n",
        "        print(\"Login successful!\")\n",
        "    else:\n",
        "        print(\"Invalid username or password.\")\n",
        "\n",
        "def main():\n",
        "    users = {}  # Dictionary to store registered users and their passwords\n",
        "\n",
        "    while True:\n",
        "        print(\"\\nMenu:\")\n",
        "        print(\"1. Register\")\n",
        "        print(\"2. Login\")\n",
        "        print(\"3. Exit\")\n",
        "\n",
        "        choice = input(\"Enter your choice: \")\n",
        "\n",
        "        if choice == \"1\":\n",
        "            register(users)\n",
        "        elif choice == \"2\":\n",
        "            login(users)\n",
        "        elif choice == \"3\":\n",
        "            print(\"Exiting...\")\n",
        "            break\n",
        "        else:\n",
        "            print(\"Invalid choice. Please try again.\")\n",
        "\n",
        "if __name__ == \"__main__\":\n",
        "    main()"
      ],
      "metadata": {
        "colab": {
          "base_uri": "https://localhost:8080/"
        },
        "id": "4RW2LhmY0JjZ",
        "outputId": "668cd8d7-a540-448c-a3a1-6ace1e6d3d84"
      },
      "execution_count": 15,
      "outputs": [
        {
          "output_type": "stream",
          "name": "stdout",
          "text": [
            "\n",
            "Menu:\n",
            "1. Register\n",
            "2. Login\n",
            "3. Exit\n",
            "Enter your choice: 1\n",
            "Enter a username: Jainisha\n",
            "Enter a password: jinu\n",
            "Registration successful!\n",
            "\n",
            "Menu:\n",
            "1. Register\n",
            "2. Login\n",
            "3. Exit\n",
            "Enter your choice: 1\n",
            "Enter a username: Jainisha\n",
            "Username already exists. Please choose a different one.\n",
            "\n",
            "Menu:\n",
            "1. Register\n",
            "2. Login\n",
            "3. Exit\n",
            "Enter your choice: \n",
            "Invalid choice. Please try again.\n",
            "\n",
            "Menu:\n",
            "1. Register\n",
            "2. Login\n",
            "3. Exit\n",
            "Enter your choice: 3\n",
            "Exiting...\n"
          ]
        }
      ]
    },
    {
      "cell_type": "markdown",
      "source": [
        "Write a program that accepts neighbors(set of 2D co-ordinates) and a point(single 2D co-ordinate) and tells nearest neighbor(in terms of euclidean distance)\n"
      ],
      "metadata": {
        "id": "R4p2-Ngl1roC"
      }
    },
    {
      "cell_type": "code",
      "source": [
        "import math\n",
        "\n",
        "def euclidean_distance(point1, point2):\n",
        "    # Calculate Euclidean distance between two points\n",
        "    return math.sqrt((point1[0] - point2[0])**2 + (point1[1] - point2[1])**2)\n",
        "\n",
        "def nearest_neighbor(neighbors, point):\n",
        "    # Initialize variables to store the nearest neighbor and its distance\n",
        "    nearest = None\n",
        "    min_distance = float('inf')\n",
        "\n",
        "    # Iterate through each neighbor\n",
        "    for neighbor in neighbors:\n",
        "        # Calculate the distance between the neighbor and the point\n",
        "        distance = euclidean_distance(neighbor, point)\n",
        "        # Update nearest neighbor if the distance is smaller\n",
        "        if distance < min_distance:\n",
        "            nearest = neighbor\n",
        "            min_distance = distance\n",
        "\n",
        "    return nearest\n",
        "\n",
        "# Example usage\n",
        "neighbors = {(1, 2), (3, 4), (5, 6), (7, 8)}\n",
        "point = (4, 5)\n",
        "nearest = nearest_neighbor(neighbors, point)\n",
        "print(\"Nearest neighbor to point\", point, \"is\", nearest)"
      ],
      "metadata": {
        "colab": {
          "base_uri": "https://localhost:8080/"
        },
        "id": "qaRxdsis1hrz",
        "outputId": "693b5a1b-6f48-4a4f-bff4-ed3b29fb1fa1"
      },
      "execution_count": 16,
      "outputs": [
        {
          "output_type": "stream",
          "name": "stdout",
          "text": [
            "Nearest neighbor to point (4, 5) is (3, 4)\n"
          ]
        }
      ]
    },
    {
      "cell_type": "markdown",
      "source": [
        "Write a function that accepts a number and returns it’s factorial. You can not use any loop\n"
      ],
      "metadata": {
        "id": "4NRwsNko14EZ"
      }
    },
    {
      "cell_type": "code",
      "source": [
        "def factorial(n):\n",
        "    # Base case: factorial of 0 is 1\n",
        "    if n == 0:\n",
        "        return 1\n",
        "    # Recursive case: factorial of n is n times factorial of (n-1)\n",
        "    else:\n",
        "        return n * factorial(n - 1)\n",
        "\n",
        "# Example usage\n",
        "number = int(input(\"Enter a number: \"))\n",
        "result = factorial(number)\n",
        "print(f\"The factorial of {number} is {result}\")"
      ],
      "metadata": {
        "colab": {
          "base_uri": "https://localhost:8080/"
        },
        "id": "yhvXQT4812Al",
        "outputId": "32d0d809-fcba-4cf4-a777-cff65043b4c1"
      },
      "execution_count": 17,
      "outputs": [
        {
          "output_type": "stream",
          "name": "stdout",
          "text": [
            "Enter a number: 5\n",
            "The factorial of 5 is 120\n"
          ]
        }
      ]
    },
    {
      "cell_type": "code",
      "source": [],
      "metadata": {
        "id": "fEFJE_eK2D4D"
      },
      "execution_count": null,
      "outputs": []
    }
  ]
}